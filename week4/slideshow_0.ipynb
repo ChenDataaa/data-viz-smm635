{
 "cells": [
  {
   "cell_type": "markdown",
   "metadata": {
    "slideshow": {
     "slide_type": "skip"
    }
   },
   "source": [
    "# Setup"
   ]
  },
  {
   "cell_type": "code",
   "execution_count": 47,
   "metadata": {
    "ExecuteTime": {
     "end_time": "2019-10-21T19:31:58.498164Z",
     "start_time": "2019-10-21T19:31:58.494143Z"
    },
    "slideshow": {
     "slide_type": "skip"
    }
   },
   "outputs": [],
   "source": [
    "import numpy as np\n",
    "import matplotlib.pyplot as plt\n",
    "import pandas as pd\n",
    "import statsmodels.api as sm\n",
    "from statsmodels.sandbox.regression.predstd import wls_prediction_std"
   ]
  },
  {
   "cell_type": "code",
   "execution_count": 3,
   "metadata": {
    "ExecuteTime": {
     "end_time": "2019-10-21T17:43:22.326311Z",
     "start_time": "2019-10-21T17:43:22.323244Z"
    }
   },
   "outputs": [],
   "source": [
    "import statsmodels.formula.api as smf"
   ]
  },
  {
   "cell_type": "code",
   "execution_count": 4,
   "metadata": {
    "ExecuteTime": {
     "end_time": "2019-10-21T17:43:22.333575Z",
     "start_time": "2019-10-21T17:43:22.329581Z"
    }
   },
   "outputs": [],
   "source": [
    "plt.style.use('fivethirtyeight')"
   ]
  },
  {
   "cell_type": "markdown",
   "metadata": {
    "slideshow": {
     "slide_type": "slide"
    }
   },
   "source": [
    "# Data visualization ― week 4\n",
    "\n",
    "![](images/weightedreg1.png)"
   ]
  },
  {
   "cell_type": "markdown",
   "metadata": {
    "slideshow": {
     "slide_type": "slide"
    }
   },
   "source": [
    "# Agenda\n",
    "\n",
    "* Week 3 wrap-up\n",
    "* Problem set discussion\n",
    "* Visualizing statistical estimates and fits\n",
    "    - uncertainty in estimates\n",
    "    - plotting causal effects estimated via regression\n",
    "    - comparing causal effects across groups"
   ]
  },
  {
   "cell_type": "markdown",
   "metadata": {
    "slideshow": {
     "slide_type": "slide"
    }
   },
   "source": [
    "# Uncertainty in estimates\n",
    "\n",
    "When it comes to visualize the output of statistical analyses, there are two forms of uncertainty the could be represented:\n",
    "\n",
    "1. sometimes, we'd like to infer a quantity of interest in the population (e.g., average salary) - however, we have sample data only\n",
    "2. sometimes, we'd like to infer the effect of an independent variable $X$ on a dependent variable $Y$ (e.g., the effect of schooling on salary) - however, the $X - Y$ effect is estimated via a regression model or machine learning. Irrespective of the method, we want to 'precision' of our estimate is properly reflected in the visualization we propose. "
   ]
  },
  {
   "cell_type": "markdown",
   "metadata": {
    "slideshow": {
     "slide_type": "slide"
    }
   },
   "source": [
    "# Case 1: Sample estimate Vs. population value\n",
    "\n",
    "Let's use the killer app data to show the uncertainty in the "
   ]
  },
  {
   "cell_type": "code",
   "execution_count": 5,
   "metadata": {
    "ExecuteTime": {
     "end_time": "2019-10-21T17:43:22.519740Z",
     "start_time": "2019-10-21T17:43:22.336867Z"
    },
    "slideshow": {
     "slide_type": "subslide"
    }
   },
   "outputs": [],
   "source": [
    "# read data\n",
    "df = pd.read_csv('data/killerAps/data.csv')"
   ]
  },
  {
   "cell_type": "code",
   "execution_count": 6,
   "metadata": {
    "ExecuteTime": {
     "end_time": "2019-10-21T17:43:22.526771Z",
     "start_time": "2019-10-21T17:43:22.521713Z"
    },
    "slideshow": {
     "slide_type": "subslide"
    }
   },
   "outputs": [],
   "source": [
    "# get a random sample containing 1%\n",
    "# of the apps in the population\n",
    "smp = df.sample(frac=0.01)"
   ]
  },
  {
   "cell_type": "code",
   "execution_count": 7,
   "metadata": {
    "ExecuteTime": {
     "end_time": "2019-10-21T17:43:22.661950Z",
     "start_time": "2019-10-21T17:43:22.529057Z"
    },
    "slideshow": {
     "slide_type": "subslide"
    }
   },
   "outputs": [
    {
     "data": {
      "image/png": "[encoded data removed]",
      "text/plain": [
       "<Figure size 288x288 with 1 Axes>"
      ]
     },
     "metadata": {},
     "output_type": "display_data"
    }
   ],
   "source": [
    "# create figure\n",
    "fig = plt.figure(figsize=(4, 4))\n",
    "\n",
    "# parms for the figure\n",
    "width = 0.25\n",
    "\n",
    "# add plot\n",
    "ax = fig.add_subplot(1, 1, 1)\n",
    "\n",
    "# get data series\n",
    "pos = (0, 1)\n",
    "labels = ('Population data', 'Sample data')\n",
    "means = (np.mean(df['avprice']), np.mean(smp['avprice']))\n",
    "err = (0, np.std(smp['avprice'])/np.sqrt(len(smp)))\n",
    "\n",
    "# quick and dirty plot\n",
    "ax.bar(pos, means, width, yerr=err)\n",
    "\n",
    "# labels\n",
    "ax.set_ylabel('Mean of average price')\n",
    "ax.set_yticks((1, 2))\n",
    "ax.set_title('Population Vs. Sample average price')\n",
    "ax.set_xticks(pos)\n",
    "ax.set_xticklabels(labels)\n",
    "\n",
    "# remove grid\n",
    "ax.grid(axis='x')\n",
    "\n",
    "# show plot\n",
    "plt.show()"
   ]
  },
  {
   "cell_type": "markdown",
   "metadata": {
    "slideshow": {
     "slide_type": "slide"
    }
   },
   "source": [
    "# Case 2: Plotting estimates from statistical models "
   ]
  },
  {
   "cell_type": "markdown",
   "metadata": {
    "slideshow": {
     "slide_type": "subslide"
    }
   },
   "source": [
    "## OLS regression model in a nutshell\n",
    "\n",
    "Given the eqquation linking the endogenous (dependent) variable $y$ to the endogenous variables (predictors) $X$:\n",
    "\n",
    "\\begin{equation}\n",
    "    y = \\alpha + \\beta_{1} * x_{1} + \\beta_{2} * x_{2} + ... + \\beta_{k} * x_{k} + \\epsilon\n",
    "\\end{equation}\n",
    "\n",
    "We want to find the best estimates for params $\\hat{\\beta_{i}}$. The OLS estimator 'solves'the problem by retaining the vector of parameters $\\hat{\\beta}$ that minimizes the following quantity:\n",
    "\n",
    "\\begin{equation}\n",
    "        RSS = \\sum_{i = 1}^{n} (y_i - \\hat{y_i})^{2}\n",
    "\\end{equation}\n",
    "\n",
    "that is, the sum of the squares of the differences between observed values ($y_{i}$) and model predictions ($y_{i}$)"
   ]
  },
  {
   "cell_type": "markdown",
   "metadata": {
    "slideshow": {
     "slide_type": "subslide"
    }
   },
   "source": [
    "## Estimation"
   ]
  },
  {
   "cell_type": "code",
   "execution_count": 8,
   "metadata": {
    "ExecuteTime": {
     "end_time": "2019-10-21T17:43:22.678027Z",
     "start_time": "2019-10-21T17:43:22.663722Z"
    },
    "slideshow": {
     "slide_type": "subslide"
    }
   },
   "outputs": [],
   "source": [
    "\"\"\"\n",
    "Let's regress the quality of an app (i.e., the average rating)\n",
    "on as series of factors, such as:\n",
    "\n",
    "1 - the attention received by the app in the platform ('lnnumcomapp'; log transformed)\n",
    "2 - the complexity of the app ('avsize')\n",
    "3 - the count of previous versions of the app ('numverapp')\n",
    "4 - the experience of the entrepreneur ('countapp')\n",
    "5 - the fact that app has been updated during the timespan of the study ('noupdates')\n",
    "\"\"\"\n",
    "\n",
    "# define the regression model\n",
    "m_0 = sm.OLS(endog=df['scoreapp'],\n",
    "             exog=df[['lnnumcomapp', 'avsize', 'numverapp', 'countapp', 'noupdates']],\n",
    "             hasconst=None)"
   ]
  },
  {
   "cell_type": "code",
   "execution_count": 9,
   "metadata": {
    "ExecuteTime": {
     "end_time": "2019-10-21T17:43:22.703267Z",
     "start_time": "2019-10-21T17:43:22.681802Z"
    },
    "slideshow": {
     "slide_type": "subslide"
    }
   },
   "outputs": [
    {
     "name": "stdout",
     "output_type": "stream",
     "text": [
      "                                 OLS Regression Results                                \n",
      "=======================================================================================\n",
      "Dep. Variable:               scoreapp   R-squared (uncentered):                   0.611\n",
      "Model:                            OLS   Adj. R-squared (uncentered):              0.611\n",
      "Method:                 Least Squares   F-statistic:                          1.140e+04\n",
      "Date:                Mon, 21 Oct 2019   Prob (F-statistic):                        0.00\n",
      "Time:                        18:43:22   Log-Likelihood:                         -74245.\n",
      "No. Observations:               36349   AIC:                                  1.485e+05\n",
      "Df Residuals:                   36344   BIC:                                  1.485e+05\n",
      "Df Model:                           5                                                  \n",
      "Covariance Type:            nonrobust                                                  \n",
      "===============================================================================\n",
      "                  coef    std err          t      P>|t|      [0.025      0.975]\n",
      "-------------------------------------------------------------------------------\n",
      "lnnumcomapp     1.1132      0.009    124.483      0.000       1.096       1.131\n",
      "avsize          0.0004      0.000      2.219      0.026    4.95e-05       0.001\n",
      "numverapp       0.1995      0.006     35.328      0.000       0.188       0.211\n",
      "countapp       -0.0066      0.001    -12.582      0.000      -0.008      -0.006\n",
      "noupdates       1.0563      0.013     80.981      0.000       1.031       1.082\n",
      "==============================================================================\n",
      "Omnibus:                     1501.792   Durbin-Watson:                   1.908\n",
      "Prob(Omnibus):                  0.000   Jarque-Bera (JB):             1695.358\n",
      "Skew:                           0.528   Prob(JB):                         0.00\n",
      "Kurtosis:                       2.950   Cond. No.                         71.1\n",
      "==============================================================================\n",
      "\n",
      "Warnings:\n",
      "[1] Standard Errors assume that the covariance matrix of the errors is correctly specified.\n"
     ]
    }
   ],
   "source": [
    "# fit the model\n",
    "m_0_res = m_0.fit()\n",
    "\n",
    "print(m_0_res.summary())"
   ]
  },
  {
   "cell_type": "code",
   "execution_count": 10,
   "metadata": {
    "ExecuteTime": {
     "end_time": "2019-10-21T17:43:22.770489Z",
     "start_time": "2019-10-21T17:43:22.706668Z"
    },
    "scrolled": false,
    "slideshow": {
     "slide_type": "subslide"
    }
   },
   "outputs": [],
   "source": [
    "# we can also pass a formula in natural language\n",
    "m_0 = smf.ols('scoreapp ~ lnnumcomapp + avsize + numverapp + countapp + noupdates',\n",
    "              data = df)"
   ]
  },
  {
   "cell_type": "code",
   "execution_count": 11,
   "metadata": {
    "ExecuteTime": {
     "end_time": "2019-10-21T17:43:22.795602Z",
     "start_time": "2019-10-21T17:43:22.772609Z"
    },
    "slideshow": {
     "slide_type": "subslide"
    }
   },
   "outputs": [
    {
     "name": "stdout",
     "output_type": "stream",
     "text": [
      "                            OLS Regression Results                            \n",
      "==============================================================================\n",
      "Dep. Variable:               scoreapp   R-squared:                       0.325\n",
      "Model:                            OLS   Adj. R-squared:                  0.325\n",
      "Method:                 Least Squares   F-statistic:                     3496.\n",
      "Date:                Mon, 21 Oct 2019   Prob (F-statistic):               0.00\n",
      "Time:                        18:43:22   Log-Likelihood:                -72380.\n",
      "No. Observations:               36349   AIC:                         1.448e+05\n",
      "Df Residuals:                   36343   BIC:                         1.448e+05\n",
      "Df Model:                           5                                         \n",
      "Covariance Type:            nonrobust                                         \n",
      "===============================================================================\n",
      "                  coef    std err          t      P>|t|      [0.025      0.975]\n",
      "-------------------------------------------------------------------------------\n",
      "Intercept       1.8460      0.029     62.676      0.000       1.788       1.904\n",
      "lnnumcomapp     1.0404      0.009    121.338      0.000       1.024       1.057\n",
      "avsize         -0.0004      0.000     -2.323      0.020      -0.001    -6.6e-05\n",
      "numverapp      -0.1588      0.008    -20.251      0.000      -0.174      -0.143\n",
      "countapp       -0.0081      0.001    -16.166      0.000      -0.009      -0.007\n",
      "noupdates      -0.3753      0.026    -14.443      0.000      -0.426      -0.324\n",
      "==============================================================================\n",
      "Omnibus:                     3420.946   Durbin-Watson:                   1.940\n",
      "Prob(Omnibus):                  0.000   Jarque-Bera (JB):             3555.545\n",
      "Skew:                           0.716   Prob(JB):                         0.00\n",
      "Kurtosis:                       2.455   Cond. No.                         219.\n",
      "==============================================================================\n",
      "\n",
      "Warnings:\n",
      "[1] Standard Errors assume that the covariance matrix of the errors is correctly specified.\n"
     ]
    },
    {
     "data": {
      "text/plain": [
       "\"\\nWarning: By default, using the 'formula' alternatives adds an intercept to the model\\n\""
      ]
     },
     "execution_count": 11,
     "metadata": {},
     "output_type": "execute_result"
    }
   ],
   "source": [
    "# fit the model\n",
    "m_0_res = m_0.fit()\n",
    "\n",
    "# print the results of the model\n",
    "print(m_0_res.summary())\n",
    "\n",
    "'''\n",
    "Warning: By default, using the 'formula' alternatives adds an intercept to the model\n",
    "'''"
   ]
  },
  {
   "cell_type": "markdown",
   "metadata": {
    "slideshow": {
     "slide_type": "subslide"
    }
   },
   "source": [
    "## Plotting individual regression slopes"
   ]
  },
  {
   "cell_type": "code",
   "execution_count": 12,
   "metadata": {
    "ExecuteTime": {
     "end_time": "2019-10-21T17:43:22.800818Z",
     "start_time": "2019-10-21T17:43:22.797460Z"
    },
    "slideshow": {
     "slide_type": "subslide"
    }
   },
   "outputs": [],
   "source": [
    "# get confidence intervals\n",
    "estimates = m_0_res.conf_int(alpha = 0.05)"
   ]
  },
  {
   "cell_type": "code",
   "execution_count": 13,
   "metadata": {
    "ExecuteTime": {
     "end_time": "2019-10-21T17:43:22.806412Z",
     "start_time": "2019-10-21T17:43:22.803001Z"
    },
    "slideshow": {
     "slide_type": "subslide"
    }
   },
   "outputs": [],
   "source": [
    "# reindex data\n",
    "estimates.reset_index(inplace=True)"
   ]
  },
  {
   "cell_type": "code",
   "execution_count": 14,
   "metadata": {
    "ExecuteTime": {
     "end_time": "2019-10-21T17:43:22.812181Z",
     "start_time": "2019-10-21T17:43:22.808510Z"
    },
    "slideshow": {
     "slide_type": "subslide"
    }
   },
   "outputs": [],
   "source": [
    "# rename columns\n",
    "estimates.rename(columns={'index': 'variable',\n",
    "                          0: 'lower_bound',\n",
    "                          1: 'upper_bound'}, inplace=True)"
   ]
  },
  {
   "cell_type": "code",
   "execution_count": 15,
   "metadata": {
    "ExecuteTime": {
     "end_time": "2019-10-21T17:43:22.819374Z",
     "start_time": "2019-10-21T17:43:22.814137Z"
    },
    "slideshow": {
     "slide_type": "subslide"
    }
   },
   "outputs": [],
   "source": [
    "# recall and attach betas\n",
    "estimates.loc[:, 'beta'] = list(m_0_res.params)"
   ]
  },
  {
   "cell_type": "code",
   "execution_count": 16,
   "metadata": {
    "ExecuteTime": {
     "end_time": "2019-10-21T17:43:22.824956Z",
     "start_time": "2019-10-21T17:43:22.821616Z"
    },
    "slideshow": {
     "slide_type": "subslide"
    }
   },
   "outputs": [],
   "source": [
    "# reindex data\n",
    "estimates.set_index('variable', inplace=True)"
   ]
  },
  {
   "cell_type": "code",
   "execution_count": 17,
   "metadata": {
    "ExecuteTime": {
     "end_time": "2019-10-21T17:43:22.959516Z",
     "start_time": "2019-10-21T17:43:22.826894Z"
    },
    "scrolled": false,
    "slideshow": {
     "slide_type": "subslide"
    }
   },
   "outputs": [
    {
     "data": {
      "image/png": "[encoded data removed]",
      "text/plain": [
       "<Figure size 288x288 with 1 Axes>"
      ]
     },
     "metadata": {},
     "output_type": "display_data"
    }
   ],
   "source": [
    "# create figure \n",
    "fig = plt.figure(figsize=(4, 4))\n",
    "\n",
    "# add plot\n",
    "ax = fig.add_subplot(1, 1, 1)\n",
    "\n",
    "# focal variable\n",
    "var = 'numverapp'\n",
    "\n",
    "# data series\n",
    "x = 0\n",
    "y = estimates.loc[var, 'beta']\n",
    "y_high = estimates.loc[var, 'upper_bound']\n",
    "y_low = estimates.loc[var, 'lower_bound']\n",
    "\n",
    "# plot data\n",
    "ax.errorbar(x, y, fmt='o',\n",
    "            yerr=np.absolute(y_low - y_high)/2,\n",
    "            elinewidth=0.5)\n",
    "\n",
    "# axes\n",
    "ax.set_xticks((-0.1, 0, .1))\n",
    "ax.set_xticklabels(('', 'Parameter: beta(numverapp)', ''))\n",
    "ax.set_ylabel('Estimated regression slope')\n",
    "\n",
    "# remove grid\n",
    "ax.grid()\n",
    "\n",
    "# show plot\n",
    "plt.show()"
   ]
  },
  {
   "cell_type": "code",
   "execution_count": 18,
   "metadata": {
    "ExecuteTime": {
     "end_time": "2019-10-21T17:43:23.099449Z",
     "start_time": "2019-10-21T17:43:22.961602Z"
    },
    "slideshow": {
     "slide_type": "subslide"
    }
   },
   "outputs": [
    {
     "data": {
      "image/png": "[encoded data removed]",
      "text/plain": [
       "<Figure size 288x288 with 1 Axes>"
      ]
     },
     "metadata": {},
     "output_type": "display_data"
    }
   ],
   "source": [
    "'''\n",
    "Let's consider multiple parameters in a row\n",
    "'''\n",
    "\n",
    "# create figure \n",
    "fig = plt.figure(figsize=(4, 4))\n",
    "\n",
    "# add plot\n",
    "ax = fig.add_subplot(1, 1, 1)\n",
    "\n",
    "# focal variable\n",
    "preds = estimates.index[1:]\n",
    "\n",
    "# let's iterate over the variables included in the model\n",
    "for i, pred in enumerate(preds):\n",
    "\n",
    "    # data series\n",
    "    x = i\n",
    "    y = estimates.loc[pred, 'beta']\n",
    "    y_high = estimates.loc[pred, 'upper_bound']\n",
    "    y_low = estimates.loc[pred, 'lower_bound']\n",
    "\n",
    "    # plot data\n",
    "    ax.errorbar(x, y, fmt='o',\n",
    "                yerr=np.absolute(y_low - y_high)/2,\n",
    "                elinewidth=1)\n",
    "\n",
    "\n",
    "# axes\n",
    "ax.set_xticks(np.arange(len(preds)))\n",
    "ax.set_xticklabels(preds, rotation=90)\n",
    "ax.set_ylabel('Estimated regression slope')\n",
    "\n",
    "# remove grid\n",
    "ax.grid(axis='x')\n",
    "\n",
    "# show plot\n",
    "plt.show()"
   ]
  },
  {
   "cell_type": "code",
   "execution_count": 19,
   "metadata": {
    "ExecuteTime": {
     "end_time": "2019-10-21T17:43:23.116248Z",
     "start_time": "2019-10-21T17:43:23.101868Z"
    },
    "slideshow": {
     "slide_type": "subslide"
    }
   },
   "outputs": [],
   "source": [
    "'''\n",
    "The above displayed chart has a fundamental problem: Predictors have different\n",
    "scales - so, comparing and contrastring the various slopes is difficult\n",
    "\n",
    "A way to circumnvent the problem is standardizing predictors: \n",
    "\n",
    "z_score = (x - mean(x)) / std(x)\n",
    "\n",
    "'''\n",
    "\n",
    "preds = ['lnnumcomapp', 'avsize', 'numverapp', 'countapp', 'noupdates']\n",
    "\n",
    "for pred in preds:\n",
    "    df.loc[:, pred] = (df[pred] - np.mean(df[pred])) / np.std(df[pred]) \n",
    "    \n",
    "\n",
    "# OR, using a lambda function:\n",
    "# df[preds] = df.loc[:, preds].apply(lambda x: (x - np.mean(x)) / np.std(x))"
   ]
  },
  {
   "cell_type": "code",
   "execution_count": 20,
   "metadata": {
    "ExecuteTime": {
     "end_time": "2019-10-21T17:43:23.165716Z",
     "start_time": "2019-10-21T17:43:23.118544Z"
    },
    "slideshow": {
     "slide_type": "subslide"
    }
   },
   "outputs": [
    {
     "name": "stdout",
     "output_type": "stream",
     "text": [
      "                            OLS Regression Results                            \n",
      "==============================================================================\n",
      "Dep. Variable:               scoreapp   R-squared:                       0.325\n",
      "Model:                            OLS   Adj. R-squared:                  0.325\n",
      "Method:                 Least Squares   F-statistic:                     3496.\n",
      "Date:                Mon, 21 Oct 2019   Prob (F-statistic):               0.00\n",
      "Time:                        18:43:23   Log-Likelihood:                -72380.\n",
      "No. Observations:               36349   AIC:                         1.448e+05\n",
      "Df Residuals:                   36343   BIC:                         1.448e+05\n",
      "Df Model:                           5                                         \n",
      "Covariance Type:            nonrobust                                         \n",
      "===============================================================================\n",
      "                  coef    std err          t      P>|t|      [0.025      0.975]\n",
      "-------------------------------------------------------------------------------\n",
      "Intercept       2.0702      0.009    222.675      0.000       2.052       2.088\n",
      "lnnumcomapp     1.2460      0.010    121.338      0.000       1.226       1.266\n",
      "avsize         -0.0216      0.009     -2.323      0.020      -0.040      -0.003\n",
      "numverapp      -0.2529      0.012    -20.251      0.000      -0.277      -0.228\n",
      "countapp       -0.1507      0.009    -16.166      0.000      -0.169      -0.132\n",
      "noupdates      -0.1729      0.012    -14.443      0.000      -0.196      -0.149\n",
      "==============================================================================\n",
      "Omnibus:                     3420.946   Durbin-Watson:                   1.940\n",
      "Prob(Omnibus):                  0.000   Jarque-Bera (JB):             3555.545\n",
      "Skew:                           0.716   Prob(JB):                         0.00\n",
      "Kurtosis:                       2.455   Cond. No.                         2.31\n",
      "==============================================================================\n",
      "\n",
      "Warnings:\n",
      "[1] Standard Errors assume that the covariance matrix of the errors is correctly specified.\n"
     ]
    }
   ],
   "source": [
    "# formula\n",
    "m_0 = smf.ols('scoreapp ~ lnnumcomapp + avsize + numverapp + countapp + noupdates',\n",
    "              data = df)\n",
    "\n",
    "m_0_res = m_0.fit()\n",
    "\n",
    "print(m_0_res.summary())"
   ]
  },
  {
   "cell_type": "code",
   "execution_count": 21,
   "metadata": {
    "ExecuteTime": {
     "end_time": "2019-10-21T17:43:23.351726Z",
     "start_time": "2019-10-21T17:43:23.167699Z"
    },
    "slideshow": {
     "slide_type": "subslide"
    }
   },
   "outputs": [
    {
     "data": {
      "image/png": "[encoded data removed]",
      "text/plain": [
       "<Figure size 288x288 with 1 Axes>"
      ]
     },
     "metadata": {},
     "output_type": "display_data"
    }
   ],
   "source": [
    "# formula\n",
    "m_0 = smf.ols('scoreapp ~ lnnumcomapp + avsize + numverapp + countapp + noupdates',\n",
    "              data = df)\n",
    "\n",
    "# fit\n",
    "m_0_res = m_0.fit()\n",
    "\n",
    "# get confidence intervals\n",
    "estimates = m_0_res.conf_int(alpha = 0.05)\n",
    "\n",
    "# reindex data\n",
    "estimates.reset_index(inplace=True)\n",
    "\n",
    "# rename columns\n",
    "estimates.rename(columns={'index': 'variable',\n",
    "                          0: 'lower_bound',\n",
    "                          1: 'upper_bound'}, inplace=True)\n",
    "\n",
    "# recall and attach betas\n",
    "estimates.loc[:, 'beta'] = list(m_0_res.params)\n",
    "\n",
    "# reindex data\n",
    "estimates.set_index('variable', inplace=True)\n",
    "\n",
    "'''\n",
    "Let's consider multiple parameters in a row\n",
    "'''\n",
    "\n",
    "# create figure \n",
    "fig = plt.figure(figsize=(4, 4))\n",
    "\n",
    "# add plot\n",
    "ax = fig.add_subplot(1, 1, 1)\n",
    "\n",
    "# focal variable\n",
    "preds = estimates.index[1:]\n",
    "\n",
    "# let's iterate over the variables included in the model\n",
    "for i, pred in enumerate(preds):\n",
    "\n",
    "    # data series\n",
    "    x = i\n",
    "    y = estimates.loc[pred, 'beta']\n",
    "    y_high = estimates.loc[pred, 'upper_bound']\n",
    "    y_low = estimates.loc[pred, 'lower_bound']\n",
    "\n",
    "    # plot data\n",
    "    ax.errorbar(x, y, fmt='o',\n",
    "                yerr=np.absolute(y_low - y_high)/2,\n",
    "                elinewidth=1)\n",
    "\n",
    "\n",
    "# axes\n",
    "ax.set_xticks(np.arange(len(preds)))\n",
    "ax.set_xticklabels(preds, rotation=90)\n",
    "ax.set_ylabel('Estimated regression slope\\n(predictor increase = +1 SD)')\n",
    "\n",
    "# remove grid\n",
    "ax.grid(axis='x')\n",
    "\n",
    "# show plot\n",
    "plt.show()"
   ]
  },
  {
   "cell_type": "markdown",
   "metadata": {
    "slideshow": {
     "slide_type": "slide"
    }
   },
   "source": [
    "## Diagnostic plots\n",
    "\n",
    "Statsmodels has a rich set of functions covering diagnostic plots"
   ]
  },
  {
   "cell_type": "code",
   "execution_count": 44,
   "metadata": {
    "ExecuteTime": {
     "end_time": "2019-10-21T19:15:07.574521Z",
     "start_time": "2019-10-21T19:15:07.537406Z"
    }
   },
   "outputs": [],
   "source": [
    "# sample 1% of the observations to improve\n",
    "# the readability of the below-displayed chart\n",
    "df = df.sample(frac=0.01)\n",
    "\n",
    "# formula\n",
    "m_0 = smf.ols('scoreapp ~ lnnumcomapp + avsize + numverapp + countapp + noupdates',\n",
    "              data = df)\n",
    "\n",
    "# fit\n",
    "m_0_res = m_0.fit()"
   ]
  },
  {
   "cell_type": "code",
   "execution_count": 45,
   "metadata": {
    "ExecuteTime": {
     "end_time": "2019-10-21T19:15:10.028835Z",
     "start_time": "2019-10-21T19:15:09.778049Z"
    },
    "slideshow": {
     "slide_type": "subslide"
    }
   },
   "outputs": [
    {
     "data": {
      "image/png": "[encoded data removed]",
      "text/plain": [
       "<Figure size 864x576 with 1 Axes>"
      ]
     },
     "metadata": {},
     "output_type": "display_data"
    }
   ],
   "source": [
    "# create figure\n",
    "fig = plt.figure(figsize=(12, 8)) \n",
    "\n",
    "# add plot\n",
    "ax = fig.add_subplot(1, 1, 1)\n",
    "\n",
    "# plot data and estimates with Statmodels' built-in 'graphics'\n",
    "sm.graphics.plot_fit(m_0_res, \"numverapp\", ax=ax)\n",
    "\n",
    "# show plot\n",
    "plt.show()"
   ]
  },
  {
   "cell_type": "markdown",
   "metadata": {
    "slideshow": {
     "slide_type": "slide"
    }
   },
   "source": [
    "## Predictions"
   ]
  },
  {
   "cell_type": "code",
   "execution_count": 144,
   "metadata": {
    "ExecuteTime": {
     "end_time": "2019-10-21T20:20:32.473982Z",
     "start_time": "2019-10-21T20:20:32.464357Z"
    },
    "slideshow": {
     "slide_type": "subslide"
    }
   },
   "outputs": [],
   "source": [
    "# fake data on a curvilinear relationship between x and y\n",
    "nsample = 50\n",
    "sig = 0.5\n",
    "x = np.linspace(0, 20, nsample)\n",
    "X = np.column_stack((x, np.sin(x), (x-5)**2, np.ones(nsample)))\n",
    "beta = [0.5, 0.5, -0.02, 5.]\n",
    "y_true = np.dot(X, beta)\n",
    "y = y_true + sig * np.random.normal(size=nsample)"
   ]
  },
  {
   "cell_type": "code",
   "execution_count": 145,
   "metadata": {
    "ExecuteTime": {
     "end_time": "2019-10-21T20:21:07.627494Z",
     "start_time": "2019-10-21T20:21:07.615139Z"
    }
   },
   "outputs": [
    {
     "name": "stdout",
     "output_type": "stream",
     "text": [
      "                            OLS Regression Results                            \n",
      "==============================================================================\n",
      "Dep. Variable:                      y   R-squared:                       0.929\n",
      "Model:                            OLS   Adj. R-squared:                  0.924\n",
      "Method:                 Least Squares   F-statistic:                     199.4\n",
      "Date:                Mon, 21 Oct 2019   Prob (F-statistic):           2.29e-26\n",
      "Time:                        21:21:07   Log-Likelihood:                -39.421\n",
      "No. Observations:                  50   AIC:                             86.84\n",
      "Df Residuals:                      46   BIC:                             94.49\n",
      "Df Model:                           3                                         \n",
      "Covariance Type:            nonrobust                                         \n",
      "==============================================================================\n",
      "                 coef    std err          t      P>|t|      [0.025      0.975]\n",
      "------------------------------------------------------------------------------\n",
      "x1             0.4832      0.029     16.563      0.000       0.424       0.542\n",
      "x2             0.4629      0.115      4.037      0.000       0.232       0.694\n",
      "x3            -0.0164      0.003     -6.407      0.000      -0.022      -0.011\n",
      "const          4.9977      0.189     26.420      0.000       4.617       5.378\n",
      "==============================================================================\n",
      "Omnibus:                        1.431   Durbin-Watson:                   2.118\n",
      "Prob(Omnibus):                  0.489   Jarque-Bera (JB):                1.172\n",
      "Skew:                          -0.166   Prob(JB):                        0.557\n",
      "Kurtosis:                       2.327   Cond. No.                         221.\n",
      "==============================================================================\n",
      "\n",
      "Warnings:\n",
      "[1] Standard Errors assume that the covariance matrix of the errors is correctly specified.\n"
     ]
    }
   ],
   "source": [
    "# estimation\n",
    "res = sm.OLS(y, X).fit()\n",
    "print(res.summary())"
   ]
  },
  {
   "cell_type": "code",
   "execution_count": 155,
   "metadata": {
    "ExecuteTime": {
     "end_time": "2019-10-21T20:25:37.129990Z",
     "start_time": "2019-10-21T20:25:37.126733Z"
    }
   },
   "outputs": [],
   "source": [
    "# get confidence intervals\n",
    "y_hat, lb, ub = wls_prediction_std(res)"
   ]
  },
  {
   "cell_type": "code",
   "execution_count": 158,
   "metadata": {
    "ExecuteTime": {
     "end_time": "2019-10-21T20:26:28.545183Z",
     "start_time": "2019-10-21T20:26:28.056904Z"
    }
   },
   "outputs": [
    {
     "data": {
      "image/png": "[encoded data removed]",
      "text/plain": [
       "<Figure size 648x432 with 1 Axes>"
      ]
     },
     "metadata": {},
     "output_type": "display_data"
    }
   ],
   "source": [
    "# create figure\n",
    "fig = plt.figure(figsize=(9, 6))\n",
    "\n",
    "# add plot\n",
    "ax = fig.add_subplot(1, 1, 1)\n",
    "\n",
    "# plot data\n",
    "ax.plot(x, y, 'o', label=\"Observed\")\n",
    "ax.plot(x, y_true, 'o', label=\"Theoretical\")\n",
    "ax.plot(x, res.fittedvalues, label=\"Fitted (OLS)\")\n",
    "ax.plot(x, ub)\n",
    "ax.plot(x, lb)\n",
    "\n",
    "# axes\n",
    "ax.set_xlabel('$X$')\n",
    "ax.set_ylabel('$Y$')\n",
    "\n",
    "# legend\n",
    "ax.legend(loc='best');"
   ]
  },
  {
   "cell_type": "code",
   "execution_count": null,
   "metadata": {},
   "outputs": [],
   "source": []
  }
 ],
 "metadata": {
  "celltoolbar": "Slideshow",
  "kernelspec": {
   "display_name": "Python 3",
   "language": "python",
   "name": "python3"
  },
  "language_info": {
   "codemirror_mode": {
    "name": "ipython",
    "version": 3
   },
   "file_extension": ".py",
   "mimetype": "text/x-python",
   "name": "python",
   "nbconvert_exporter": "python",
   "pygments_lexer": "ipython3",
   "version": "3.7.4"
  },
  "latex_envs": {
   "LaTeX_envs_menu_present": true,
   "autoclose": false,
   "autocomplete": true,
   "bibliofile": "biblio.bib",
   "cite_by": "apalike",
   "current_citInitial": 1,
   "eqLabelWithNumbers": true,
   "eqNumInitial": 1,
   "hotkeys": {
    "equation": "Ctrl-E",
    "itemize": "Ctrl-I"
   },
   "labels_anchors": false,
   "latex_user_defs": false,
   "report_style_numbering": false,
   "user_envs_cfg": false
  },
  "toc": {
   "base_numbering": 1,
   "nav_menu": {},
   "number_sections": false,
   "sideBar": true,
   "skip_h1_title": false,
   "title_cell": "Table of Contents",
   "title_sidebar": "Contents",
   "toc_cell": false,
   "toc_position": {
    "height": "calc(100% - 180px)",
    "left": "10px",
    "top": "150px",
    "width": "214px"
   },
   "toc_section_display": true,
   "toc_window_display": true
  },
  "varInspector": {
   "cols": {
    "lenName": 16,
    "lenType": 16,
    "lenVar": 40
   },
   "kernels_config": {
    "python": {
     "delete_cmd_postfix": "",
     "delete_cmd_prefix": "del ",
     "library": "var_list.py",
     "varRefreshCmd": "print(var_dic_list())"
    },
    "r": {
     "delete_cmd_postfix": ") ",
     "delete_cmd_prefix": "rm(",
     "library": "var_list.r",
     "varRefreshCmd": "cat(var_dic_list()) "
    }
   },
   "types_to_exclude": [
    "module",
    "function",
    "builtin_function_or_method",
    "instance",
    "_Feature"
   ],
   "window_display": false
  },
  "pycharm": {
   "stem_cell": {
    "cell_type": "raw",
    "source": [],
    "metadata": {
     "collapsed": false
    }
   }
  }
 },
 "nbformat": 4,
 "nbformat_minor": 2
}