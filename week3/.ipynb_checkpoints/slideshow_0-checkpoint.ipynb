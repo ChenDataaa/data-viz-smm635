{
 "cells": [
  {
   "cell_type": "markdown",
   "metadata": {
    "slideshow": {
     "slide_type": "fragment"
    }
   },
   "source": [
    "# Setup"
   ]
  },
  {
   "cell_type": "code",
   "execution_count": 2,
   "metadata": {
    "attributes": {
     "classes": [],
     "id": "",
     "n": "1"
    },
    "pycharm": {
     "is_executing": false
    },
    "slideshow": {
     "slide_type": "fragment"
    }
   },
   "outputs": [],
   "source": [
    "# setup\n",
    "\n",
    "import numpy as np\n",
    "import pandas as pd\n",
    "import matplotlib.pyplot as plt\n",
    "plt.style.use('fivethirtyeight')\n",
    "#import rpy2"
   ]
  },
  {
   "cell_type": "code",
   "execution_count": 4,
   "metadata": {
    "attributes": {
     "classes": [],
     "id": "",
     "n": "2"
    },
    "pycharm": {
     "is_executing": false
    },
    "slideshow": {
     "slide_type": "fragment"
    }
   },
   "outputs": [],
   "source": [
    "%matplotlib inline\n",
    "#%load_ext rpy2.ipython"
   ]
  },
  {
   "cell_type": "markdown",
   "metadata": {
    "attributes": {
     "classes": [
      "markdown"
     ],
     "id": ""
    },
    "slideshow": {
     "slide_type": "slide"
    }
   },
   "source": [
    "# Data Visualization ― week 3\n",
    "\n",
    "![](images/vpprek2s4ws31.png.webp)"
   ]
  },
  {
   "cell_type": "markdown",
   "metadata": {
    "slideshow": {
     "slide_type": "subslide"
    }
   },
   "source": [
    "## Example 1: Napoleon's Russian Campaign\n",
    "\n",
    "![](images/russian_campaign.png)\n",
    "\n",
    "Source: Minard\n",
    "[1869]|"
   ]
  },
  {
   "cell_type": "markdown",
   "metadata": {
    "slideshow": {
     "slide_type": "subslide"
    }
   },
   "source": [
    "## Example 2: Strong Openers and Late Bloomers\n",
    "\n",
    "![](images/Day57-945x324.png)\n",
    "\n",
    "Source:\n",
    "http://projects.susielu.com/box-office"
   ]
  },
  {
   "cell_type": "markdown",
   "metadata": {
    "slideshow": {
     "slide_type": "subslide"
    }
   },
   "source": [
    "## Example 3: Political party polarization\n",
    "\n",
    "![](images/moody_mucha.png)\n",
    "\n",
    "Source: Moody and\n",
    "Mucha [2013 - Network Science (the journal)]\n"
   ]
  },
  {
   "cell_type": "markdown",
   "metadata": {
    "slideshow": {
     "slide_type": "slide"
    }
   },
   "source": [
    "# Graphical excellence and time-related data\n",
    "\n",
    "![](images/time_and_ideas.png)\n",
    "\n",
    "Source: Tufte [2001]\n",
    "\n",
    "*\"graphical excellence is the well-designed presentation of interesting data ― a\n",
    "matter of substance, statistics, and of design\"*\n",
    "\n",
    "*\"graphical excellence\n",
    "consists of complex ideas communicated with clarity, precision, and efficiency\"*\n",
    "Tufte [2001, p.51]"
   ]
  },
  {
   "cell_type": "markdown",
   "metadata": {
    "slideshow": {
     "slide_type": "subslide"
    }
   },
   "source": [
    "# How does time matter for data visualization?\n",
    "\n",
    "Plausible visualization goals ― we may want to show:\n",
    "\n",
    "* change in a continuos\n",
    "variable\n",
    "* change in a qualitative (i.e., categorical) variable\n",
    "* inter-temporal\n",
    "patterns of events\n",
    "* connections among events\n",
    "\n",
    "Possible analytical approaches to investigate time-related variables:\n",
    "\n",
    "* within-\n",
    "case approach\n",
    "* comparative, within & between-case approach"
   ]
  },
  {
   "cell_type": "markdown",
   "metadata": {
    "slideshow": {
     "slide_type": "slide"
    }
   },
   "source": [
    "# The simplest form of chart involving 'time': The single time-series\n",
    "![](images/20150418_WBC823_0.png)"
   ]
  },
  {
   "cell_type": "markdown",
   "metadata": {
    "slideshow": {
     "slide_type": "slide"
    }
   },
   "source": [
    "# Multiple time-series: Moving toward the 'within & between' approach\n",
    "![](images/import_export.png)\n",
    "\n",
    "# How do we represent $N$ time series in a chart?"
   ]
  },
  {
   "cell_type": "code",
   "execution_count": null,
   "metadata": {
    "attributes": {
     "classes": [],
     "id": "",
     "n": "3"
    },
    "pycharm": {
     "is_executing": false
    },
    "slideshow": {
     "slide_type": "slide"
    }
   },
   "outputs": [],
   "source": [
    "# simulate multiple populations of start-ups\n",
    "\n",
    "# params\n",
    "# --------------------------\n",
    "\n",
    "# set seed\n",
    "np.random.seed(666)\n",
    "\n",
    "# periods\n",
    "p = 11\n",
    "\n",
    "# sub-population size\n",
    "s = 1000\n",
    "\n",
    "# simulation \n",
    "# -------------------------\n",
    "# exponentional growth\n",
    "e = []\n",
    "\n",
    "for i in range(s):\n",
    "    for j in np.arange(1, p, 1):\n",
    "        r = np.exp(j) * np.random.uniform(0.1, 1)\n",
    "        e.append([i, j, r, 'e'])\n",
    "        \n",
    "        \n",
    "e = pd.DataFrame(e, columns=['i', 'j', 'r', 'g'])\n",
    "\n",
    "\n",
    "# inverted-u shape\n",
    "b1, b2 = 4 * 1000, - 4 * 100\n",
    "\n",
    "u =[]\n",
    "\n",
    "for i in range(s):\n",
    "    for j in np.arange(1, p, 1):\n",
    "        r = (b1 * j + b2 * j ** 2) * np.random.uniform(0.1, 1)\n",
    "        u.append([i, j, r, 'u'])\n",
    "\n",
    "        \n",
    "u = pd.DataFrame(u, columns=['i', 'j', 'r', 'g'])\n",
    "\n",
    "\n",
    "# log shape\n",
    "b = 2000\n",
    "\n",
    "l = []\n",
    "\n",
    "for i in range(s):\n",
    "    for j in np.arange(1, p, 1):\n",
    "        r = b * np.log(j) * np.random.uniform(0.1, 1)\n",
    "        l.append([i, j, r, 'l'])\n",
    "\n",
    "\n",
    "l = pd.DataFrame(l, columns=['i', 'j', 'r', 'g'])\n",
    "\n",
    "\n",
    "# append data\n",
    "df = pd.concat([e, u, l], axis=0, )"
   ]
  },
  {
   "cell_type": "markdown",
   "metadata": {
    "slideshow": {
     "slide_type": "subslide"
    }
   },
   "source": [
    "## Option 1: Dimensionality reduction"
   ]
  },
  {
   "cell_type": "code",
   "execution_count": null,
   "metadata": {
    "attributes": {
     "classes": [],
     "id": "",
     "n": "4"
    },
    "pycharm": {
     "is_executing": false
    },
    "slideshow": {
     "slide_type": "subslide"
    }
   },
   "outputs": [],
   "source": [
    "# collapse data\n",
    "c = pd.DataFrame(df.groupby('j', as_index=False)['r'].agg(np.mean))"
   ]
  },
  {
   "cell_type": "code",
   "execution_count": null,
   "metadata": {
    "attributes": {
     "classes": [],
     "id": "",
     "n": "5"
    },
    "pycharm": {
     "is_executing": false
    },
    "slideshow": {
     "slide_type": "subslide"
    }
   },
   "outputs": [],
   "source": [
    "# create figure\n",
    "fig = plt.figure(figsize=(9, 6))\n",
    "\n",
    "# add chart\n",
    "ax = fig.add_subplot(1, 1, 1)\n",
    "\n",
    "# plot data\n",
    "x, y = c.j, c.r\n",
    "ax.plot(x, y, marker='o', markersize=10)\n",
    "\n",
    "# title\n",
    "ax.set_title('Average sales by start-up age')\n",
    "\n",
    "# axes\n",
    "ax.set_xlabel('Time elapsed since incorporation (years)')\n",
    "ax.set_ylabel('Sales (K)')\n",
    "\n",
    "# show plot\n",
    "plt.show()"
   ]
  },
  {
   "cell_type": "markdown",
   "metadata": {
    "slideshow": {
     "slide_type": "subslide"
    }
   },
   "source": [
    "## Option 2: Plotting 'everything'"
   ]
  },
  {
   "cell_type": "code",
   "execution_count": null,
   "metadata": {
    "attributes": {
     "classes": [],
     "id": "",
     "n": "6"
    },
    "pycharm": {
     "is_executing": false
    },
    "slideshow": {
     "slide_type": "subslide"
    }
   },
   "outputs": [],
   "source": [
    "# create figure\n",
    "fig = plt.figure(figsize=(9, 6))\n",
    "\n",
    "# add chart\n",
    "ax = fig.add_subplot(1, 1, 1)\n",
    "\n",
    "# plot data\n",
    "x = np.arange(1, 11, 1)\n",
    "\n",
    "for i in range(s):\n",
    "    for j in ['e', 'u', 'l']:\n",
    "        y = df.loc[(df['i'] == i) & (df['g'] == j)]['r'].values\n",
    "        ax.plot(x, y, color='k', alpha=0.01)\n",
    "\n",
    "# title\n",
    "ax.set_title('Individual sales trajectories')\n",
    "\n",
    "# axes\n",
    "ax.set_xlabel('Time elapsed since incorporation (years)')\n",
    "ax.set_ylabel('Sales (K)')\n",
    "        \n",
    "# show plot\n",
    "plt.show()"
   ]
  },
  {
   "cell_type": "markdown",
   "metadata": {
    "slideshow": {
     "slide_type": "subslide"
    }
   },
   "source": [
    "## Option 3: Plotting prototypical trajectories"
   ]
  },
  {
   "cell_type": "code",
   "execution_count": null,
   "metadata": {
    "attributes": {
     "classes": [],
     "id": "",
     "n": "7"
    },
    "pycharm": {
     "is_executing": false
    },
    "slideshow": {
     "slide_type": "subslide"
    }
   },
   "outputs": [],
   "source": [
    "# create figure\n",
    "fig = plt.figure(figsize=(9, 6))\n",
    "\n",
    "# add chart\n",
    "# ax0 = fig.add_subplot(3, 1, 1)\n",
    "# ax1 = fig.add_subplot(3, 1, 2)\n",
    "# ax2 = fig.add_subplot(3, 1, 3)\n",
    "ax = fig.add_subplot(1, 1, 1)\n",
    "\n",
    "# plot data\n",
    "x = np.arange(1, 11, 1)\n",
    "\n",
    "y_e = [0.55 * np.exp(i) for i in np.arange(1, 11, 1)]\n",
    "ax.plot(x, y_e, color='seagreen', alpha=1, marker='o', markersize=10, label='Exponential growth')\n",
    "    \n",
    "y_u = [0.55 * (b1 * x + b2 * x ** 2) for x in np.arange(1, 11, 1)]\n",
    "ax.plot(x, y_u, color='tomato', alpha=1, marker='o', markersize=10, label='Inverted U growth')\n",
    "\n",
    "y_l = [0.55 * (b * np.log(x)) for x in np.arange(1, 11, 1)]\n",
    "ax.plot(x, y_l, color='cornflowerblue', alpha=1, marker='o', markersize=10, label='Plateau')\n",
    "\n",
    "\n",
    "# legend\n",
    "ax.legend(loc='best')\n",
    "\n",
    "# title\n",
    "ax.set_title('Individual sales trajectories')\n",
    "\n",
    "# axes\n",
    "ax.set_xlabel('Time elapsed since incorporation (years)')\n",
    "ax.set_ylabel('Sales (K)')\n",
    "        \n",
    "# show plot\n",
    "plt.show()"
   ]
  },
  {
   "cell_type": "code",
   "execution_count": null,
   "metadata": {
    "attributes": {
     "classes": [],
     "id": "",
     "n": "8"
    },
    "pycharm": {
     "is_executing": false
    },
    "slideshow": {
     "slide_type": "subslide"
    }
   },
   "outputs": [],
   "source": [
    "# create figure\n",
    "fig = plt.figure(figsize=(9, 6))\n",
    "\n",
    "# add chart\n",
    "# ax0 = fig.add_subplot(3, 1, 1)\n",
    "# ax1 = fig.add_subplot(3, 1, 2)\n",
    "# ax2 = fig.add_subplot(3, 1, 3)\n",
    "ax = fig.add_subplot(1, 1, 1)\n",
    "\n",
    "# plot data\n",
    "x = np.arange(1, 11, 1)\n",
    "\n",
    "for i in range(s):\n",
    "    y_obs = df.loc[(df['i'] == i) & (df['g'] == 'e')]['r'].values\n",
    "    ax.plot(x, y_obs, color='seagreen', alpha=0.01)\n",
    "    \n",
    "\n",
    "y_e = [0.55 * np.exp(i) for i in np.arange(1, 11, 1)]\n",
    "ax.plot(x, y_e, color='seagreen', alpha=1, marker='o',markersize=10, label='Exponential growth')\n",
    "    \n",
    "\n",
    "for i in range(s):\n",
    "    y_obs = df.loc[(df['i'] == i) & (df['g'] == 'u')]['r'].values\n",
    "    ax.plot(x, y_obs, color='tomato', alpha=0.01)\n",
    "    \n",
    "\n",
    "y_u = [0.55 * (b1 * x + b2 * x ** 2) for x in np.arange(1, 11, 1)]\n",
    "ax.plot(x, y_u, color='tomato', alpha=1, marker='o', markersize=10, label='Inverted U growth')\n",
    "    \n",
    "\n",
    "for i in range(s):\n",
    "    y_obs = df.loc[(df['i'] == i) & (df['g'] == 'l')]['r'].values\n",
    "    ax.plot(x, y_obs, color='cornflowerblue', alpha=0.01)\n",
    "\n",
    "\n",
    "y_l = [0.55 * (b * np.log(x)) for x in np.arange(1, 11, 1)]\n",
    "ax.plot(x, y_l, color='cornflowerblue', alpha=1, marker='o', markersize=10, label='Plateau')\n",
    "\n",
    "\n",
    "# title\n",
    "ax.set_title('Individual sales trajectories')\n",
    "\n",
    "# legend\n",
    "ax.legend(loc='best')\n",
    "\n",
    "# axes\n",
    "ax.set_xlabel('Time elapsed since incorporation (years)')\n",
    "ax.set_ylabel('Sales (K)')\n",
    "        \n",
    "# show plot\n",
    "plt.show()"
   ]
  },
  {
   "cell_type": "markdown",
   "metadata": {
    "slideshow": {
     "slide_type": "subslide"
    }
   },
   "source": [
    "# Representing cross-sections and trajectories (1 out of 2)\n",
    "\n",
    "![](images/miotto_altman.png)"
   ]
  },
  {
   "cell_type": "markdown",
   "metadata": {
    "slideshow": {
     "slide_type": "subslide"
    }
   },
   "source": [
    "# Representing cross-sections and trajectories (2 out of 2)\n",
    "![](images/youtube_popularity.png)\n",
    "\n",
    "Notes: Dynamics of views in YouTube. Colored\n",
    "histograms : distributions of views at fixed times after publication (0.3\n",
    "million videos from our database).Gray lines at the bottom: trajectories of 120\n",
    "videos which had the same early success (50 views 2 days after publication).\n",
    "Black histogram: distribution of views of the 120 selected videos 2 months after\n",
    "publication."
   ]
  },
  {
   "cell_type": "markdown",
   "metadata": {
    "slideshow": {
     "slide_type": "slide"
    }
   },
   "source": [
    "\n",
    "# Representing sequences of events\n",
    "\n",
    "**How sequences matter?**\n",
    "\n",
    "- actors (being individuals, organizations, or communities) are characterized by\n",
    "'states'\n",
    "- in several fields (e.g., labor economics), it is extremely relevant\n",
    "to appreciate:\n",
    "    + when units change 'state' (e.g., training $\\rightarrow$\n",
    "employment)\n",
    "    + how often units change 'state'\n",
    "    + typical sequences in\n",
    "terms of frequency and timing of change"
   ]
  },
  {
   "cell_type": "markdown",
   "metadata": {
    "slideshow": {
     "slide_type": "subslide"
    }
   },
   "source": [
    "## Special case: Social sequence analysis\n",
    "\n",
    "![](images/index.jpg)\n"
   ]
  },
  {
   "cell_type": "code",
   "execution_count": null,
   "metadata": {
    "attributes": {
     "classes": [],
     "id": "",
     "n": "13"
    },
    "pycharm": {
     "is_executing": false
    },
    "slideshow": {
     "slide_type": "subslide"
    }
   },
   "outputs": [],
   "source": [
    "%%R\n",
    "\n",
    "#####################################################################\n",
    "#   R code for the TraMiner program\n",
    "#####################################################################\n",
    "\n",
    "# library\n",
    "library(TraMineR)\n",
    "\n",
    "# load sample data\n",
    "data(mvad)\n",
    "seqstatl(mvad[, 17:86])\n",
    "\n",
    "# create a state sequence object to which we assign, for later usage\n",
    "# short state names for printed output and long state labels for the legend in graphics\n",
    "mvad.alphabet <- c(\"employment\", \"FE\", \"HE\", \"joblessness\", \"school\", \n",
    "    \"training\")\n",
    "mvad.labels <- c(\"employment\", \"further education\", \"higher education\", \n",
    "    \"joblessness\", \"school\", \"training\")\n",
    "mvad.scodes <- c(\"EM\", \"FE\", \"HE\", \"JL\", \"SC\", \"TR\")\n",
    "mvad.seq <- seqdef(mvad, 17:86, alphabet = mvad.alphabet, states = mvad.scodes, \n",
    "    labels = mvad.labels, xtstep = 6)\n",
    "\n",
    "# plot the sequence\n",
    "par(mfrow = c(2, 2))\n",
    "\n",
    "seqiplot(mvad.seq, with.legend = FALSE, border = NA)\n",
    "seqIplot(mvad.seq, sortv = \"from.start\", with.legend = FALSE)\n",
    "seqfplot(mvad.seq, with.legend = FALSE, border = NA)\n",
    "seqlegend(mvad.seq)"
   ]
  },
  {
   "cell_type": "markdown",
   "metadata": {
    "slideshow": {
     "slide_type": "subslide"
    }
   },
   "source": [
    "## Output of TraMineR\n",
    "\n",
    "![](images/traminer.png)"
   ]
  },
  {
   "cell_type": "markdown",
   "metadata": {
    "slideshow": {
     "slide_type": "slide"
    }
   },
   "source": [
    "# Narratives\n",
    "\n",
    "**How narratives matter**\n",
    "\n",
    "- audiences remember data through habitus\n",
    "- narratives\n",
    "are powerful tools that help audience members to build habitus\n",
    "    * narratives\n",
    "put events into connection\n",
    "    * narratives should convey 'causal chains' (i.e.,\n",
    "$x$ causes $m$ that causes $y$)"
   ]
  },
  {
   "cell_type": "markdown",
   "metadata": {
    "slideshow": {
     "slide_type": "subslide"
    }
   },
   "source": [
    "\n",
    "## In-class discussion #1: Too many cooks spoil the broth\n",
    "\n",
    "![](images/dictionary.png)\n",
    "\n",
    "![](images/091.gif)"
   ]
  },
  {
   "cell_type": "markdown",
   "metadata": {
    "slideshow": {
     "slide_type": "subslide"
    }
   },
   "source": [
    "\n",
    "## In-class case discussion #2: How to tell Madonna's emergence and consecration story?\n",
    "\n",
    "![](images/f2ee72cc2c3d43d952164fba616cac16.jpg)"
   ]
  }
 ],
 "metadata": {
  "celltoolbar": "Slideshow",
  "kernelspec": {
   "display_name": "Python 3",
   "language": "python",
   "name": "python3"
  },
  "latex_envs": {
   "LaTeX_envs_menu_present": true,
   "autoclose": false,
   "autocomplete": true,
   "bibliofile": "biblio.bib",
   "cite_by": "apalike",
   "current_citInitial": 1,
   "eqLabelWithNumbers": true,
   "eqNumInitial": 1,
   "hotkeys": {
    "equation": "Ctrl-E",
    "itemize": "Ctrl-I"
   },
   "labels_anchors": false,
   "latex_user_defs": false,
   "report_style_numbering": false,
   "user_envs_cfg": false
  },
  "pycharm": {
   "stem_cell": {
    "cell_type": "raw",
    "metadata": {
     "collapsed": false
    },
    "source": []
   }
  },
  "toc": {
   "base_numbering": 1,
   "nav_menu": {},
   "number_sections": false,
   "sideBar": true,
   "skip_h1_title": false,
   "title_cell": "Table of Contents",
   "title_sidebar": "Contents",
   "toc_cell": false,
   "toc_position": {
    "height": "calc(100% - 180px)",
    "left": "10px",
    "top": "150px",
    "width": "303.867px"
   },
   "toc_section_display": true,
   "toc_window_display": true
  }
 },
 "nbformat": 4,
 "nbformat_minor": 2
}
