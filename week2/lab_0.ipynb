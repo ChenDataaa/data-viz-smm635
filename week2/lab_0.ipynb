{
 "cells": [
  {
   "cell_type": "code",
   "execution_count": 2,
   "metadata": {
    "ExecuteTime": {
     "end_time": "2018-10-11T17:19:05.982120Z",
     "start_time": "2018-10-11T17:19:05.610271Z"
    }
   },
   "outputs": [],
   "source": [
    "import numpy as np\n",
    "import scipy as sp\n",
    "import pandas as pd\n",
    "import matplotlib.pyplot as plt\n",
    "from matplotlib import mlab"
   ]
  },
  {
   "cell_type": "code",
   "execution_count": 3,
   "metadata": {
    "ExecuteTime": {
     "end_time": "2018-10-11T17:19:05.989345Z",
     "start_time": "2018-10-11T17:19:05.983935Z"
    }
   },
   "outputs": [],
   "source": [
    "%matplotlib inline\n",
    "plt.style.use('fivethirtyeight')"
   ]
  },
  {
   "cell_type": "markdown",
   "metadata": {},
   "source": [
    "# Load data"
   ]
  },
  {
   "cell_type": "code",
   "execution_count": 4,
   "metadata": {
    "ExecuteTime": {
     "end_time": "2018-10-11T17:19:06.186936Z",
     "start_time": "2018-10-11T17:19:05.991003Z"
    }
   },
   "outputs": [],
   "source": [
    "\"\"\"\n",
    "- These charts focus on real-world data concerning\n",
    "the Appstore\n",
    "\n",
    "- For further details about the data see this American\n",
    "Economic Review article: https://www.aeaweb.org/articles?id=10.1257/aer.104.5.255 \n",
    "\n",
    "- Data are contained in the compressed folder *.zip\n",
    "\"\"\"\n",
    "\n",
    "df = pd.read_csv('killerAps/data.csv')"
   ]
  },
  {
   "cell_type": "code",
   "execution_count": 5,
   "metadata": {
    "ExecuteTime": {
     "end_time": "2018-10-11T17:19:06.235064Z",
     "start_time": "2018-10-11T17:19:06.189113Z"
    },
    "scrolled": true
   },
   "outputs": [
    {
     "name": "stdout",
     "output_type": "stream",
     "text": [
      "<class 'pandas.core.frame.DataFrame'>\n",
      "RangeIndex: 36349 entries, 0 to 36348\n",
      "Data columns (total 68 columns):\n",
      "cat1             36349 non-null int64\n",
      "cat2             36349 non-null int64\n",
      "cat3             36349 non-null int64\n",
      "cat4             36349 non-null int64\n",
      "cat5             36349 non-null int64\n",
      "cat6             36349 non-null int64\n",
      "cat7             36349 non-null int64\n",
      "cat8             36349 non-null int64\n",
      "cat9             36349 non-null int64\n",
      "cat10            36349 non-null int64\n",
      "cat11            36349 non-null int64\n",
      "cat12            36349 non-null int64\n",
      "cat13            36349 non-null int64\n",
      "cat14            36349 non-null int64\n",
      "cat15            36349 non-null int64\n",
      "cat16            36349 non-null int64\n",
      "cat17            36349 non-null int64\n",
      "cat18            36349 non-null int64\n",
      "cat              36349 non-null int64\n",
      "killerappgros    36349 non-null int64\n",
      "numcomapp        36349 non-null float64\n",
      "scoreapp         36349 non-null float64\n",
      "avprice          36349 non-null float64\n",
      "avsize           36349 non-null float64\n",
      "numverapp        36349 non-null float64\n",
      "countapp         36349 non-null float64\n",
      "cohort           36349 non-null float64\n",
      "cohort1          36349 non-null int64\n",
      "cohort2          36349 non-null int64\n",
      "cohort3          36349 non-null int64\n",
      "cohort4          36349 non-null int64\n",
      "cohort5          36349 non-null int64\n",
      "cohort6          36349 non-null int64\n",
      "cohort7          36349 non-null int64\n",
      "cohort8          36349 non-null int64\n",
      "cohort9          36349 non-null int64\n",
      "cohort10         36349 non-null int64\n",
      "cohort11         36349 non-null int64\n",
      "cohort12         36349 non-null int64\n",
      "cohort13         36349 non-null int64\n",
      "cohort14         36349 non-null int64\n",
      "cohort15         36349 non-null int64\n",
      "cohort16         36349 non-null int64\n",
      "cohort17         36349 non-null int64\n",
      "cohort18         36349 non-null int64\n",
      "cohort19         36349 non-null int64\n",
      "cohort20         36349 non-null int64\n",
      "cohort21         36349 non-null int64\n",
      "cohort22         36349 non-null int64\n",
      "cohort23         36349 non-null int64\n",
      "cohort24         36349 non-null int64\n",
      "cohort25         36349 non-null int64\n",
      "cohort26         36349 non-null int64\n",
      "cohort27         36349 non-null int64\n",
      "cohort28         36349 non-null int64\n",
      "cohort29         36349 non-null int64\n",
      "cohort30         36349 non-null int64\n",
      "cohort31         36349 non-null int64\n",
      "cohort32         36349 non-null int64\n",
      "cohort33         36349 non-null int64\n",
      "cohort34         36349 non-null int64\n",
      "cohort35         36349 non-null int64\n",
      "cohort36         36349 non-null int64\n",
      "cohort37         36349 non-null int64\n",
      "cohort38         36349 non-null int64\n",
      "noupdates        36349 non-null float64\n",
      "avdeltatime      36349 non-null float64\n",
      "lnnumcomapp      36349 non-null float64\n",
      "dtypes: float64(10), int64(58)\n",
      "memory usage: 18.9 MB\n"
     ]
    }
   ],
   "source": [
    "df.info(verbose=True, null_counts=True)"
   ]
  },
  {
   "cell_type": "code",
   "execution_count": 6,
   "metadata": {
    "ExecuteTime": {
     "end_time": "2018-10-11T17:19:06.241550Z",
     "start_time": "2018-10-11T17:19:06.236935Z"
    }
   },
   "outputs": [],
   "source": [
    "cb = pd.read_csv('killerAps/codebook.csv')"
   ]
  },
  {
   "cell_type": "code",
   "execution_count": 7,
   "metadata": {
    "ExecuteTime": {
     "end_time": "2018-10-11T17:19:06.266454Z",
     "start_time": "2018-10-11T17:19:06.243080Z"
    },
    "scrolled": true
   },
   "outputs": [
    {
     "data": {
      "text/html": [
       "<div>\n",
       "<style scoped>\n",
       "    .dataframe tbody tr th:only-of-type {\n",
       "        vertical-align: middle;\n",
       "    }\n",
       "\n",
       "    .dataframe tbody tr th {\n",
       "        vertical-align: top;\n",
       "    }\n",
       "\n",
       "    .dataframe thead th {\n",
       "        text-align: right;\n",
       "    }\n",
       "</style>\n",
       "<table border=\"1\" class=\"dataframe\">\n",
       "  <thead>\n",
       "    <tr style=\"text-align: right;\">\n",
       "      <th></th>\n",
       "      <th>variable name</th>\n",
       "      <th>type</th>\n",
       "      <th>format</th>\n",
       "      <th>variable label</th>\n",
       "    </tr>\n",
       "  </thead>\n",
       "  <tbody>\n",
       "    <tr>\n",
       "      <th>0</th>\n",
       "      <td>cat1</td>\n",
       "      <td>byte</td>\n",
       "      <td>%8.0g</td>\n",
       "      <td>categoryname==Business</td>\n",
       "    </tr>\n",
       "    <tr>\n",
       "      <th>1</th>\n",
       "      <td>cat2</td>\n",
       "      <td>byte</td>\n",
       "      <td>%8.0g</td>\n",
       "      <td>categoryname==Education</td>\n",
       "    </tr>\n",
       "    <tr>\n",
       "      <th>2</th>\n",
       "      <td>cat3</td>\n",
       "      <td>byte</td>\n",
       "      <td>%8.0g</td>\n",
       "      <td>categoryname==Entertainment</td>\n",
       "    </tr>\n",
       "    <tr>\n",
       "      <th>3</th>\n",
       "      <td>cat4</td>\n",
       "      <td>byte</td>\n",
       "      <td>%8.0g</td>\n",
       "      <td>categoryname==Finance</td>\n",
       "    </tr>\n",
       "    <tr>\n",
       "      <th>4</th>\n",
       "      <td>cat5</td>\n",
       "      <td>byte</td>\n",
       "      <td>%8.0g</td>\n",
       "      <td>categoryname==Games</td>\n",
       "    </tr>\n",
       "    <tr>\n",
       "      <th>5</th>\n",
       "      <td>cat6</td>\n",
       "      <td>byte</td>\n",
       "      <td>%8.0g</td>\n",
       "      <td>categoryname==Health</td>\n",
       "    </tr>\n",
       "    <tr>\n",
       "      <th>6</th>\n",
       "      <td>cat7</td>\n",
       "      <td>byte</td>\n",
       "      <td>%8.0g</td>\n",
       "      <td>categoryname==Lifestyle</td>\n",
       "    </tr>\n",
       "    <tr>\n",
       "      <th>7</th>\n",
       "      <td>cat8</td>\n",
       "      <td>byte</td>\n",
       "      <td>%8.0g</td>\n",
       "      <td>categoryname==Medical</td>\n",
       "    </tr>\n",
       "    <tr>\n",
       "      <th>8</th>\n",
       "      <td>cat9</td>\n",
       "      <td>byte</td>\n",
       "      <td>%8.0g</td>\n",
       "      <td>categoryname==Music</td>\n",
       "    </tr>\n",
       "    <tr>\n",
       "      <th>9</th>\n",
       "      <td>cat10</td>\n",
       "      <td>byte</td>\n",
       "      <td>%8.0g</td>\n",
       "      <td>categoryname==Navigation</td>\n",
       "    </tr>\n",
       "    <tr>\n",
       "      <th>10</th>\n",
       "      <td>cat11</td>\n",
       "      <td>byte</td>\n",
       "      <td>%8.0g</td>\n",
       "      <td>categoryname==Photography</td>\n",
       "    </tr>\n",
       "    <tr>\n",
       "      <th>11</th>\n",
       "      <td>cat12</td>\n",
       "      <td>byte</td>\n",
       "      <td>%8.0g</td>\n",
       "      <td>categoryname==Productivity</td>\n",
       "    </tr>\n",
       "    <tr>\n",
       "      <th>12</th>\n",
       "      <td>cat13</td>\n",
       "      <td>byte</td>\n",
       "      <td>%8.0g</td>\n",
       "      <td>categoryname==Reference</td>\n",
       "    </tr>\n",
       "    <tr>\n",
       "      <th>13</th>\n",
       "      <td>cat14</td>\n",
       "      <td>byte</td>\n",
       "      <td>%8.0g</td>\n",
       "      <td>categoryname==Social Networking</td>\n",
       "    </tr>\n",
       "    <tr>\n",
       "      <th>14</th>\n",
       "      <td>cat15</td>\n",
       "      <td>byte</td>\n",
       "      <td>%8.0g</td>\n",
       "      <td>categoryname==Sports</td>\n",
       "    </tr>\n",
       "    <tr>\n",
       "      <th>15</th>\n",
       "      <td>cat16</td>\n",
       "      <td>byte</td>\n",
       "      <td>%8.0g</td>\n",
       "      <td>categoryname==Travel</td>\n",
       "    </tr>\n",
       "    <tr>\n",
       "      <th>16</th>\n",
       "      <td>cat17</td>\n",
       "      <td>byte</td>\n",
       "      <td>%8.0g</td>\n",
       "      <td>categoryname==Utilities</td>\n",
       "    </tr>\n",
       "    <tr>\n",
       "      <th>17</th>\n",
       "      <td>cat18</td>\n",
       "      <td>byte</td>\n",
       "      <td>%8.0g</td>\n",
       "      <td>categoryname==Weather</td>\n",
       "    </tr>\n",
       "    <tr>\n",
       "      <th>18</th>\n",
       "      <td>cat</td>\n",
       "      <td>byte</td>\n",
       "      <td>%9.0g</td>\n",
       "      <td>App category</td>\n",
       "    </tr>\n",
       "    <tr>\n",
       "      <th>19</th>\n",
       "      <td>killerappgros</td>\n",
       "      <td>byte</td>\n",
       "      <td>%9.0g</td>\n",
       "      <td>Killer app group</td>\n",
       "    </tr>\n",
       "    <tr>\n",
       "      <th>20</th>\n",
       "      <td>numcomapp</td>\n",
       "      <td>float</td>\n",
       "      <td>%9.0g</td>\n",
       "      <td>Number of comments</td>\n",
       "    </tr>\n",
       "    <tr>\n",
       "      <th>21</th>\n",
       "      <td>scoreapp</td>\n",
       "      <td>float</td>\n",
       "      <td>%9.0g</td>\n",
       "      <td>Score</td>\n",
       "    </tr>\n",
       "    <tr>\n",
       "      <th>22</th>\n",
       "      <td>avprice</td>\n",
       "      <td>float</td>\n",
       "      <td>%9.0g</td>\n",
       "      <td>Average prices</td>\n",
       "    </tr>\n",
       "    <tr>\n",
       "      <th>23</th>\n",
       "      <td>avsize</td>\n",
       "      <td>float</td>\n",
       "      <td>%9.0g</td>\n",
       "      <td>Average size</td>\n",
       "    </tr>\n",
       "    <tr>\n",
       "      <th>24</th>\n",
       "      <td>numverapp</td>\n",
       "      <td>float</td>\n",
       "      <td>%9.0g</td>\n",
       "      <td>Number of versions</td>\n",
       "    </tr>\n",
       "    <tr>\n",
       "      <th>25</th>\n",
       "      <td>countapp</td>\n",
       "      <td>float</td>\n",
       "      <td>%9.0g</td>\n",
       "      <td>App order</td>\n",
       "    </tr>\n",
       "    <tr>\n",
       "      <th>26</th>\n",
       "      <td>cohort</td>\n",
       "      <td>float</td>\n",
       "      <td>%9.0g</td>\n",
       "      <td>group(ryear rmonth)</td>\n",
       "    </tr>\n",
       "    <tr>\n",
       "      <th>27</th>\n",
       "      <td>cohort1</td>\n",
       "      <td>byte</td>\n",
       "      <td>%8.0g</td>\n",
       "      <td>cohort== 1.0000</td>\n",
       "    </tr>\n",
       "    <tr>\n",
       "      <th>28</th>\n",
       "      <td>cohort2</td>\n",
       "      <td>byte</td>\n",
       "      <td>%8.0g</td>\n",
       "      <td>cohort== 2.0000</td>\n",
       "    </tr>\n",
       "    <tr>\n",
       "      <th>29</th>\n",
       "      <td>cohort3</td>\n",
       "      <td>byte</td>\n",
       "      <td>%8.0g</td>\n",
       "      <td>cohort== 3.0000</td>\n",
       "    </tr>\n",
       "    <tr>\n",
       "      <th>...</th>\n",
       "      <td>...</td>\n",
       "      <td>...</td>\n",
       "      <td>...</td>\n",
       "      <td>...</td>\n",
       "    </tr>\n",
       "    <tr>\n",
       "      <th>38</th>\n",
       "      <td>cohort12</td>\n",
       "      <td>byte</td>\n",
       "      <td>%8.0g</td>\n",
       "      <td>cohort== 12.0000</td>\n",
       "    </tr>\n",
       "    <tr>\n",
       "      <th>39</th>\n",
       "      <td>cohort13</td>\n",
       "      <td>byte</td>\n",
       "      <td>%8.0g</td>\n",
       "      <td>cohort== 13.0000</td>\n",
       "    </tr>\n",
       "    <tr>\n",
       "      <th>40</th>\n",
       "      <td>cohort14</td>\n",
       "      <td>byte</td>\n",
       "      <td>%8.0g</td>\n",
       "      <td>cohort== 14.0000</td>\n",
       "    </tr>\n",
       "    <tr>\n",
       "      <th>41</th>\n",
       "      <td>cohort15</td>\n",
       "      <td>byte</td>\n",
       "      <td>%8.0g</td>\n",
       "      <td>cohort== 15.0000</td>\n",
       "    </tr>\n",
       "    <tr>\n",
       "      <th>42</th>\n",
       "      <td>cohort16</td>\n",
       "      <td>byte</td>\n",
       "      <td>%8.0g</td>\n",
       "      <td>cohort== 16.0000</td>\n",
       "    </tr>\n",
       "    <tr>\n",
       "      <th>43</th>\n",
       "      <td>cohort17</td>\n",
       "      <td>byte</td>\n",
       "      <td>%8.0g</td>\n",
       "      <td>cohort== 17.0000</td>\n",
       "    </tr>\n",
       "    <tr>\n",
       "      <th>44</th>\n",
       "      <td>cohort18</td>\n",
       "      <td>byte</td>\n",
       "      <td>%8.0g</td>\n",
       "      <td>cohort== 18.0000</td>\n",
       "    </tr>\n",
       "    <tr>\n",
       "      <th>45</th>\n",
       "      <td>cohort19</td>\n",
       "      <td>byte</td>\n",
       "      <td>%8.0g</td>\n",
       "      <td>cohort== 19.0000</td>\n",
       "    </tr>\n",
       "    <tr>\n",
       "      <th>46</th>\n",
       "      <td>cohort20</td>\n",
       "      <td>byte</td>\n",
       "      <td>%8.0g</td>\n",
       "      <td>cohort== 20.0000</td>\n",
       "    </tr>\n",
       "    <tr>\n",
       "      <th>47</th>\n",
       "      <td>cohort21</td>\n",
       "      <td>byte</td>\n",
       "      <td>%8.0g</td>\n",
       "      <td>cohort== 21.0000</td>\n",
       "    </tr>\n",
       "    <tr>\n",
       "      <th>48</th>\n",
       "      <td>cohort22</td>\n",
       "      <td>byte</td>\n",
       "      <td>%8.0g</td>\n",
       "      <td>cohort== 22.0000</td>\n",
       "    </tr>\n",
       "    <tr>\n",
       "      <th>49</th>\n",
       "      <td>cohort23</td>\n",
       "      <td>byte</td>\n",
       "      <td>%8.0g</td>\n",
       "      <td>cohort== 23.0000</td>\n",
       "    </tr>\n",
       "    <tr>\n",
       "      <th>50</th>\n",
       "      <td>cohort24</td>\n",
       "      <td>byte</td>\n",
       "      <td>%8.0g</td>\n",
       "      <td>cohort== 24.0000</td>\n",
       "    </tr>\n",
       "    <tr>\n",
       "      <th>51</th>\n",
       "      <td>cohort25</td>\n",
       "      <td>byte</td>\n",
       "      <td>%8.0g</td>\n",
       "      <td>cohort== 25.0000</td>\n",
       "    </tr>\n",
       "    <tr>\n",
       "      <th>52</th>\n",
       "      <td>cohort26</td>\n",
       "      <td>byte</td>\n",
       "      <td>%8.0g</td>\n",
       "      <td>cohort== 26.0000</td>\n",
       "    </tr>\n",
       "    <tr>\n",
       "      <th>53</th>\n",
       "      <td>cohort27</td>\n",
       "      <td>byte</td>\n",
       "      <td>%8.0g</td>\n",
       "      <td>cohort== 27.0000</td>\n",
       "    </tr>\n",
       "    <tr>\n",
       "      <th>54</th>\n",
       "      <td>cohort28</td>\n",
       "      <td>byte</td>\n",
       "      <td>%8.0g</td>\n",
       "      <td>cohort== 28.0000</td>\n",
       "    </tr>\n",
       "    <tr>\n",
       "      <th>55</th>\n",
       "      <td>cohort29</td>\n",
       "      <td>byte</td>\n",
       "      <td>%8.0g</td>\n",
       "      <td>cohort== 29.0000</td>\n",
       "    </tr>\n",
       "    <tr>\n",
       "      <th>56</th>\n",
       "      <td>cohort30</td>\n",
       "      <td>byte</td>\n",
       "      <td>%8.0g</td>\n",
       "      <td>cohort== 30.0000</td>\n",
       "    </tr>\n",
       "    <tr>\n",
       "      <th>57</th>\n",
       "      <td>cohort31</td>\n",
       "      <td>byte</td>\n",
       "      <td>%8.0g</td>\n",
       "      <td>cohort== 31.0000</td>\n",
       "    </tr>\n",
       "    <tr>\n",
       "      <th>58</th>\n",
       "      <td>cohort32</td>\n",
       "      <td>byte</td>\n",
       "      <td>%8.0g</td>\n",
       "      <td>cohort== 32.0000</td>\n",
       "    </tr>\n",
       "    <tr>\n",
       "      <th>59</th>\n",
       "      <td>cohort33</td>\n",
       "      <td>byte</td>\n",
       "      <td>%8.0g</td>\n",
       "      <td>cohort== 33.0000</td>\n",
       "    </tr>\n",
       "    <tr>\n",
       "      <th>60</th>\n",
       "      <td>cohort34</td>\n",
       "      <td>byte</td>\n",
       "      <td>%8.0g</td>\n",
       "      <td>cohort== 34.0000</td>\n",
       "    </tr>\n",
       "    <tr>\n",
       "      <th>61</th>\n",
       "      <td>cohort35</td>\n",
       "      <td>byte</td>\n",
       "      <td>%8.0g</td>\n",
       "      <td>cohort== 35.0000</td>\n",
       "    </tr>\n",
       "    <tr>\n",
       "      <th>62</th>\n",
       "      <td>cohort36</td>\n",
       "      <td>byte</td>\n",
       "      <td>%8.0g</td>\n",
       "      <td>cohort== 36.0000</td>\n",
       "    </tr>\n",
       "    <tr>\n",
       "      <th>63</th>\n",
       "      <td>cohort37</td>\n",
       "      <td>byte</td>\n",
       "      <td>%8.0g</td>\n",
       "      <td>cohort== 37.0000</td>\n",
       "    </tr>\n",
       "    <tr>\n",
       "      <th>64</th>\n",
       "      <td>cohort38</td>\n",
       "      <td>byte</td>\n",
       "      <td>%8.0g</td>\n",
       "      <td>cohort== 38.0000</td>\n",
       "    </tr>\n",
       "    <tr>\n",
       "      <th>65</th>\n",
       "      <td>noupdates</td>\n",
       "      <td>float</td>\n",
       "      <td>%9.0g</td>\n",
       "      <td>No update</td>\n",
       "    </tr>\n",
       "    <tr>\n",
       "      <th>66</th>\n",
       "      <td>avdeltatime</td>\n",
       "      <td>float</td>\n",
       "      <td>%9.0g</td>\n",
       "      <td>Time between versions</td>\n",
       "    </tr>\n",
       "    <tr>\n",
       "      <th>67</th>\n",
       "      <td>lnnumcomapp</td>\n",
       "      <td>float</td>\n",
       "      <td>%9.0g</td>\n",
       "      <td>Log of number of comments</td>\n",
       "    </tr>\n",
       "  </tbody>\n",
       "</table>\n",
       "<p>68 rows × 4 columns</p>\n",
       "</div>"
      ],
      "text/plain": [
       "    variable name   type   format                   variable label\n",
       "0            cat1   byte    %8.0g           categoryname==Business\n",
       "1            cat2   byte    %8.0g          categoryname==Education\n",
       "2            cat3   byte    %8.0g      categoryname==Entertainment\n",
       "3            cat4   byte    %8.0g            categoryname==Finance\n",
       "4            cat5   byte    %8.0g              categoryname==Games\n",
       "5            cat6   byte    %8.0g             categoryname==Health\n",
       "6            cat7   byte    %8.0g          categoryname==Lifestyle\n",
       "7            cat8   byte    %8.0g            categoryname==Medical\n",
       "8            cat9   byte    %8.0g              categoryname==Music\n",
       "9           cat10   byte    %8.0g         categoryname==Navigation\n",
       "10          cat11   byte    %8.0g        categoryname==Photography\n",
       "11          cat12   byte    %8.0g       categoryname==Productivity\n",
       "12          cat13   byte    %8.0g          categoryname==Reference\n",
       "13          cat14   byte    %8.0g  categoryname==Social Networking\n",
       "14          cat15   byte    %8.0g             categoryname==Sports\n",
       "15          cat16   byte    %8.0g             categoryname==Travel\n",
       "16          cat17   byte    %8.0g          categoryname==Utilities\n",
       "17          cat18   byte    %8.0g            categoryname==Weather\n",
       "18            cat   byte    %9.0g                     App category\n",
       "19  killerappgros   byte    %9.0g                 Killer app group\n",
       "20      numcomapp  float    %9.0g               Number of comments\n",
       "21       scoreapp  float    %9.0g                            Score\n",
       "22        avprice  float    %9.0g                   Average prices\n",
       "23         avsize  float    %9.0g                     Average size\n",
       "24      numverapp  float    %9.0g               Number of versions\n",
       "25       countapp  float    %9.0g                        App order\n",
       "26         cohort  float    %9.0g              group(ryear rmonth)\n",
       "27        cohort1   byte    %8.0g                  cohort== 1.0000\n",
       "28        cohort2   byte    %8.0g                  cohort== 2.0000\n",
       "29        cohort3   byte    %8.0g                  cohort== 3.0000\n",
       "..            ...    ...      ...                              ...\n",
       "38       cohort12   byte    %8.0g                 cohort== 12.0000\n",
       "39       cohort13   byte    %8.0g                 cohort== 13.0000\n",
       "40       cohort14   byte    %8.0g                 cohort== 14.0000\n",
       "41       cohort15   byte    %8.0g                 cohort== 15.0000\n",
       "42       cohort16   byte    %8.0g                 cohort== 16.0000\n",
       "43       cohort17   byte    %8.0g                 cohort== 17.0000\n",
       "44       cohort18   byte    %8.0g                 cohort== 18.0000\n",
       "45       cohort19   byte    %8.0g                 cohort== 19.0000\n",
       "46       cohort20   byte    %8.0g                 cohort== 20.0000\n",
       "47       cohort21   byte    %8.0g                 cohort== 21.0000\n",
       "48       cohort22   byte    %8.0g                 cohort== 22.0000\n",
       "49       cohort23   byte    %8.0g                 cohort== 23.0000\n",
       "50       cohort24   byte    %8.0g                 cohort== 24.0000\n",
       "51       cohort25   byte    %8.0g                 cohort== 25.0000\n",
       "52       cohort26   byte    %8.0g                 cohort== 26.0000\n",
       "53       cohort27   byte    %8.0g                 cohort== 27.0000\n",
       "54       cohort28   byte    %8.0g                 cohort== 28.0000\n",
       "55       cohort29   byte    %8.0g                 cohort== 29.0000\n",
       "56       cohort30   byte    %8.0g                 cohort== 30.0000\n",
       "57       cohort31   byte    %8.0g                 cohort== 31.0000\n",
       "58       cohort32   byte    %8.0g                 cohort== 32.0000\n",
       "59       cohort33   byte    %8.0g                 cohort== 33.0000\n",
       "60       cohort34   byte    %8.0g                 cohort== 34.0000\n",
       "61       cohort35   byte    %8.0g                 cohort== 35.0000\n",
       "62       cohort36   byte    %8.0g                 cohort== 36.0000\n",
       "63       cohort37   byte    %8.0g                 cohort== 37.0000\n",
       "64       cohort38   byte    %8.0g                 cohort== 38.0000\n",
       "65      noupdates  float    %9.0g                        No update\n",
       "66    avdeltatime  float    %9.0g            Time between versions\n",
       "67    lnnumcomapp  float  %9.0g          Log of number of comments\n",
       "\n",
       "[68 rows x 4 columns]"
      ]
     },
     "execution_count": 7,
     "metadata": {},
     "output_type": "execute_result"
    }
   ],
   "source": [
    "cb"
   ]
  },
  {
   "cell_type": "markdown",
   "metadata": {},
   "source": [
    "# Frequencies"
   ]
  },
  {
   "cell_type": "markdown",
   "metadata": {},
   "source": [
    "## Data transformation"
   ]
  },
  {
   "cell_type": "markdown",
   "metadata": {},
   "source": [
    "### Freqs with respect to categories"
   ]
  },
  {
   "cell_type": "code",
   "execution_count": 8,
   "metadata": {
    "ExecuteTime": {
     "end_time": "2018-10-11T17:19:06.296896Z",
     "start_time": "2018-10-11T17:19:06.267964Z"
    }
   },
   "outputs": [],
   "source": [
    "df.loc[:, 'count'] = 1"
   ]
  },
  {
   "cell_type": "code",
   "execution_count": 9,
   "metadata": {
    "ExecuteTime": {
     "end_time": "2018-10-11T17:19:06.325577Z",
     "start_time": "2018-10-11T17:19:06.299293Z"
    }
   },
   "outputs": [],
   "source": [
    "gr = df.groupby('cat', as_index=False)['count']\n",
    "fr = pd.DataFrame(gr.aggregate(np.sum))"
   ]
  },
  {
   "cell_type": "code",
   "execution_count": 10,
   "metadata": {
    "ExecuteTime": {
     "end_time": "2018-10-11T17:19:06.335842Z",
     "start_time": "2018-10-11T17:19:06.327857Z"
    }
   },
   "outputs": [
    {
     "data": {
      "text/html": [
       "<div>\n",
       "<style scoped>\n",
       "    .dataframe tbody tr th:only-of-type {\n",
       "        vertical-align: middle;\n",
       "    }\n",
       "\n",
       "    .dataframe tbody tr th {\n",
       "        vertical-align: top;\n",
       "    }\n",
       "\n",
       "    .dataframe thead th {\n",
       "        text-align: right;\n",
       "    }\n",
       "</style>\n",
       "<table border=\"1\" class=\"dataframe\">\n",
       "  <thead>\n",
       "    <tr style=\"text-align: right;\">\n",
       "      <th></th>\n",
       "      <th>cat</th>\n",
       "      <th>count</th>\n",
       "    </tr>\n",
       "  </thead>\n",
       "  <tbody>\n",
       "    <tr>\n",
       "      <th>0</th>\n",
       "      <td>1</td>\n",
       "      <td>1596</td>\n",
       "    </tr>\n",
       "    <tr>\n",
       "      <th>1</th>\n",
       "      <td>2</td>\n",
       "      <td>3846</td>\n",
       "    </tr>\n",
       "    <tr>\n",
       "      <th>2</th>\n",
       "      <td>3</td>\n",
       "      <td>4915</td>\n",
       "    </tr>\n",
       "    <tr>\n",
       "      <th>3</th>\n",
       "      <td>4</td>\n",
       "      <td>376</td>\n",
       "    </tr>\n",
       "    <tr>\n",
       "      <th>4</th>\n",
       "      <td>5</td>\n",
       "      <td>7683</td>\n",
       "    </tr>\n",
       "  </tbody>\n",
       "</table>\n",
       "</div>"
      ],
      "text/plain": [
       "   cat  count\n",
       "0    1   1596\n",
       "1    2   3846\n",
       "2    3   4915\n",
       "3    4    376\n",
       "4    5   7683"
      ]
     },
     "execution_count": 10,
     "metadata": {},
     "output_type": "execute_result"
    }
   ],
   "source": [
    "fr.head()"
   ]
  },
  {
   "cell_type": "code",
   "execution_count": 11,
   "metadata": {
    "ExecuteTime": {
     "end_time": "2018-10-11T17:19:06.344280Z",
     "start_time": "2018-10-11T17:19:06.337994Z"
    }
   },
   "outputs": [],
   "source": [
    "# set of category names\n",
    "c = ('Business', 'Education', 'Entertainment', 'Finance', 'Games', 'Health',\n",
    "     'Lifestyle', 'Medical', 'Music', 'Navigation', 'Photography',\n",
    "     'Productivity', 'Reference', 'Social Networking', 'Sports', 'Travel',\n",
    "     'Utilities', 'Weather')\n",
    "\n",
    "# positions for category\n",
    "c_pos = fr.index\n",
    "\n",
    "# data to plot\n",
    "f = fr['count']"
   ]
  },
  {
   "cell_type": "code",
   "execution_count": 12,
   "metadata": {
    "ExecuteTime": {
     "end_time": "2018-10-11T17:19:06.656319Z",
     "start_time": "2018-10-11T17:19:06.346409Z"
    }
   },
   "outputs": [
    {
     "data": {
      "image/png": "[encoded data removed]",
      "text/plain": [
       "<Figure size 576x576 with 1 Axes>"
      ]
     },
     "metadata": {},
     "output_type": "display_data"
    }
   ],
   "source": [
    "# creating the figure\n",
    "fig = plt.figure(figsize=(8, 8))\n",
    "\n",
    "# populate the figure with a plot\n",
    "ax = fig.add_subplot(1, 1, 1)\n",
    "\n",
    "# plot the data\n",
    "ax.barh(c_pos, f)\n",
    "\n",
    "# axes\n",
    "ax.set_yticks(c_pos)\n",
    "ax.set_yticklabels(c)\n",
    "\n",
    "# gridline\n",
    "ax.grid(linestyle=\":\", linewidth=1)\n",
    "\n",
    "# labels\n",
    "ax.set_xlabel(\"Frequencies\")\n",
    "ax.set_ylabel(\"App categories\")\n",
    "\n",
    "# title\n",
    "ax.set_title(\n",
    "    \"Population of apps in the AppStore\\n―Product-market category breakdown―\")\n",
    "\n",
    "# annotations\n",
    "# ax.annotate(\"A simple comment\", xy = (1, 90))\n",
    "\n",
    "# tight layout\n",
    "fig.tight_layout()\n",
    "\n",
    "# save the figure\n",
    "# fig.savefig(\"tight_layout.pdf\")\n",
    "\n",
    "# display the figure\n",
    "plt.show()\n",
    "\n",
    "# close the FIG object\n",
    "plt.close(fig)"
   ]
  },
  {
   "cell_type": "markdown",
   "metadata": {},
   "source": [
    "### Freqs with respect to categories & popularity (killer app or not) "
   ]
  },
  {
   "cell_type": "code",
   "execution_count": 13,
   "metadata": {
    "ExecuteTime": {
     "end_time": "2018-10-11T17:19:06.661685Z",
     "start_time": "2018-10-11T17:19:06.658180Z"
    }
   },
   "outputs": [],
   "source": [
    "df.loc[:, 'count'] = 1"
   ]
  },
  {
   "cell_type": "code",
   "execution_count": 14,
   "metadata": {
    "ExecuteTime": {
     "end_time": "2018-10-11T17:19:06.680766Z",
     "start_time": "2018-10-11T17:19:06.663848Z"
    }
   },
   "outputs": [],
   "source": [
    "gr = df.groupby(['cat', 'killerappgros'], as_index=False)['count']\n",
    "fr = pd.DataFrame(gr.aggregate(np.sum))"
   ]
  },
  {
   "cell_type": "code",
   "execution_count": 15,
   "metadata": {
    "ExecuteTime": {
     "end_time": "2018-10-11T17:19:06.693655Z",
     "start_time": "2018-10-11T17:19:06.683064Z"
    }
   },
   "outputs": [
    {
     "data": {
      "text/html": [
       "<div>\n",
       "<style scoped>\n",
       "    .dataframe tbody tr th:only-of-type {\n",
       "        vertical-align: middle;\n",
       "    }\n",
       "\n",
       "    .dataframe tbody tr th {\n",
       "        vertical-align: top;\n",
       "    }\n",
       "\n",
       "    .dataframe thead th {\n",
       "        text-align: right;\n",
       "    }\n",
       "</style>\n",
       "<table border=\"1\" class=\"dataframe\">\n",
       "  <thead>\n",
       "    <tr style=\"text-align: right;\">\n",
       "      <th></th>\n",
       "      <th>cat</th>\n",
       "      <th>killerappgros</th>\n",
       "      <th>count</th>\n",
       "    </tr>\n",
       "  </thead>\n",
       "  <tbody>\n",
       "    <tr>\n",
       "      <th>0</th>\n",
       "      <td>1</td>\n",
       "      <td>0</td>\n",
       "      <td>1572</td>\n",
       "    </tr>\n",
       "    <tr>\n",
       "      <th>1</th>\n",
       "      <td>1</td>\n",
       "      <td>1</td>\n",
       "      <td>24</td>\n",
       "    </tr>\n",
       "    <tr>\n",
       "      <th>2</th>\n",
       "      <td>2</td>\n",
       "      <td>0</td>\n",
       "      <td>3777</td>\n",
       "    </tr>\n",
       "    <tr>\n",
       "      <th>3</th>\n",
       "      <td>2</td>\n",
       "      <td>1</td>\n",
       "      <td>69</td>\n",
       "    </tr>\n",
       "    <tr>\n",
       "      <th>4</th>\n",
       "      <td>3</td>\n",
       "      <td>0</td>\n",
       "      <td>4752</td>\n",
       "    </tr>\n",
       "  </tbody>\n",
       "</table>\n",
       "</div>"
      ],
      "text/plain": [
       "   cat  killerappgros  count\n",
       "0    1              0   1572\n",
       "1    1              1     24\n",
       "2    2              0   3777\n",
       "3    2              1     69\n",
       "4    3              0   4752"
      ]
     },
     "execution_count": 15,
     "metadata": {},
     "output_type": "execute_result"
    }
   ],
   "source": [
    "fr.head()"
   ]
  },
  {
   "cell_type": "code",
   "execution_count": 16,
   "metadata": {
    "ExecuteTime": {
     "end_time": "2018-10-11T17:19:06.708205Z",
     "start_time": "2018-10-11T17:19:06.696057Z"
    }
   },
   "outputs": [],
   "source": [
    "# creating the variables to plot\n",
    "select = ((fr['cat'] == 9) | (fr['cat'] == 11)) & (fr['killerappgros'] == 1)\n",
    "killer = fr.loc[select, 'count']"
   ]
  },
  {
   "cell_type": "code",
   "execution_count": 17,
   "metadata": {
    "ExecuteTime": {
     "end_time": "2018-10-11T17:19:06.722538Z",
     "start_time": "2018-10-11T17:19:06.711125Z"
    }
   },
   "outputs": [],
   "source": [
    "# creating the variables to plot\n",
    "select = ((fr['cat'] == 9) | (fr['cat'] == 11)) & (fr['killerappgros'] == 0)\n",
    "non_killer = fr.loc[select, 'count']"
   ]
  },
  {
   "cell_type": "code",
   "execution_count": 27,
   "metadata": {
    "ExecuteTime": {
     "end_time": "2018-10-11T17:19:38.565844Z",
     "start_time": "2018-10-11T17:19:38.440914Z"
    }
   },
   "outputs": [
    {
     "data": {
      "image/png": "[encoded data removed]",
      "text/plain": [
       "<Figure size 288x288 with 1 Axes>"
      ]
     },
     "metadata": {},
     "output_type": "display_data"
    }
   ],
   "source": [
    "# params for the visualization\n",
    "c_n = 2\n",
    "c_pos = np.arange(c_n)    # the x locations for the groups\n",
    "width = 0.35              # the width of the bars: can also be len(x) sequence\n",
    "\n",
    "# creating framework for the figure\n",
    "fig = plt.figure(figsize=(4, 4))\n",
    "\n",
    "# populate the figure\n",
    "ax = fig.add_subplot(1, 1, 1)\n",
    "\n",
    "# plot the data\n",
    "ax.bar(c_pos, non_killer, width, label='Non-killer cohort')\n",
    "ax.bar(c_pos, killer, width, bottom=non_killer,  label='Killer cohort')\n",
    "\n",
    "# axes labels\n",
    "ax.set_xlabel('App category')\n",
    "ax.set_ylabel('Frequencies')\n",
    "\n",
    "# axes ticks\n",
    "ax.set_xticks((0, 1))\n",
    "ax.set_xticklabels(('Music apps', 'Photography apps'))\n",
    "\n",
    "# legend\n",
    "ax.legend(loc='best')\n",
    "\n",
    "plt.show()"
   ]
  },
  {
   "cell_type": "markdown",
   "metadata": {},
   "source": [
    "# Univariate distributions"
   ]
  },
  {
   "cell_type": "markdown",
   "metadata": {},
   "source": [
    "## Boxplots"
   ]
  },
  {
   "cell_type": "code",
   "execution_count": 19,
   "metadata": {
    "ExecuteTime": {
     "end_time": "2018-10-11T17:19:06.840555Z",
     "start_time": "2018-10-11T17:19:06.838345Z"
    }
   },
   "outputs": [],
   "source": [
    "# data series\n",
    "x = df.numcomapp"
   ]
  },
  {
   "cell_type": "code",
   "execution_count": 20,
   "metadata": {
    "ExecuteTime": {
     "end_time": "2018-10-11T17:19:06.931375Z",
     "start_time": "2018-10-11T17:19:06.842147Z"
    }
   },
   "outputs": [
    {
     "data": {
      "image/png": "[encoded data removed]",
      "text/plain": [
       "<Figure size 288x288 with 1 Axes>"
      ]
     },
     "metadata": {},
     "output_type": "display_data"
    }
   ],
   "source": [
    "# figure\n",
    "fig = plt.figure(figsize=(4, 4))\n",
    "\n",
    "# plot\n",
    "ax = fig.add_subplot(111)\n",
    "\n",
    "# plot the data\n",
    "ax.boxplot(x)\n",
    "\n",
    "# xtick labels\n",
    "# ax.set_xticklabels('Average price')\n",
    "\n",
    "# labels\n",
    "ax.set_ylabel('Counts of comments')\n",
    "\n",
    "# axhline\n",
    "# ax.axhline(y = 10, color = 'orange')\n",
    "\n",
    "# display the plot\n",
    "plt.show()\n",
    "\n",
    "# close the figure\n",
    "plt.close(fig)"
   ]
  },
  {
   "cell_type": "markdown",
   "metadata": {},
   "source": [
    "## Histograms"
   ]
  },
  {
   "cell_type": "code",
   "execution_count": 21,
   "metadata": {
    "ExecuteTime": {
     "end_time": "2018-10-11T17:19:06.935907Z",
     "start_time": "2018-10-11T17:19:06.933553Z"
    }
   },
   "outputs": [],
   "source": [
    "# data series\n",
    "x = df.numcomapp"
   ]
  },
  {
   "cell_type": "code",
   "execution_count": 22,
   "metadata": {
    "ExecuteTime": {
     "end_time": "2018-10-11T17:19:07.053794Z",
     "start_time": "2018-10-11T17:19:06.937813Z"
    }
   },
   "outputs": [
    {
     "data": {
      "image/png": "[encoded data removed]",
      "text/plain": [
       "<Figure size 288x288 with 1 Axes>"
      ]
     },
     "metadata": {},
     "output_type": "display_data"
    }
   ],
   "source": [
    "# creating a new figure\n",
    "fig = plt.figure(figsize=(4, 4))\n",
    "\n",
    "# populate the figure with a plot\n",
    "ax = fig.add_subplot(1, 1, 1)\n",
    "\n",
    "# plot the data\n",
    "ax.hist(x, bins=20)\n",
    "\n",
    "# display the plot\n",
    "plt.show()\n",
    "\n",
    "# close the figure\n",
    "plt.close(fig)"
   ]
  },
  {
   "cell_type": "markdown",
   "metadata": {},
   "source": [
    "## Log-log plots"
   ]
  },
  {
   "cell_type": "code",
   "execution_count": 23,
   "metadata": {
    "ExecuteTime": {
     "end_time": "2018-10-11T17:19:07.107760Z",
     "start_time": "2018-10-11T17:19:07.055729Z"
    }
   },
   "outputs": [],
   "source": [
    "gr = df.groupby('numcomapp', as_index=False)['count']\n",
    "ll = gr.aggregate(np.sum)\n",
    "ll.loc[:, 'pr'] = ll['count'] / np.sum(ll['count']) \n",
    "ll.loc[:, 'numcomapp'] = ll['numcomapp'] + 1"
   ]
  },
  {
   "cell_type": "code",
   "execution_count": 24,
   "metadata": {
    "ExecuteTime": {
     "end_time": "2018-10-11T17:19:07.117744Z",
     "start_time": "2018-10-11T17:19:07.109734Z"
    }
   },
   "outputs": [
    {
     "data": {
      "text/html": [
       "<div>\n",
       "<style scoped>\n",
       "    .dataframe tbody tr th:only-of-type {\n",
       "        vertical-align: middle;\n",
       "    }\n",
       "\n",
       "    .dataframe tbody tr th {\n",
       "        vertical-align: top;\n",
       "    }\n",
       "\n",
       "    .dataframe thead th {\n",
       "        text-align: right;\n",
       "    }\n",
       "</style>\n",
       "<table border=\"1\" class=\"dataframe\">\n",
       "  <thead>\n",
       "    <tr style=\"text-align: right;\">\n",
       "      <th></th>\n",
       "      <th>numcomapp</th>\n",
       "      <th>count</th>\n",
       "      <th>pr</th>\n",
       "    </tr>\n",
       "  </thead>\n",
       "  <tbody>\n",
       "    <tr>\n",
       "      <th>0</th>\n",
       "      <td>1.0</td>\n",
       "      <td>17293</td>\n",
       "      <td>0.475749</td>\n",
       "    </tr>\n",
       "    <tr>\n",
       "      <th>1</th>\n",
       "      <td>2.0</td>\n",
       "      <td>4288</td>\n",
       "      <td>0.117967</td>\n",
       "    </tr>\n",
       "    <tr>\n",
       "      <th>2</th>\n",
       "      <td>3.0</td>\n",
       "      <td>3599</td>\n",
       "      <td>0.099012</td>\n",
       "    </tr>\n",
       "    <tr>\n",
       "      <th>3</th>\n",
       "      <td>4.0</td>\n",
       "      <td>1633</td>\n",
       "      <td>0.044926</td>\n",
       "    </tr>\n",
       "    <tr>\n",
       "      <th>4</th>\n",
       "      <td>5.0</td>\n",
       "      <td>1826</td>\n",
       "      <td>0.050235</td>\n",
       "    </tr>\n",
       "  </tbody>\n",
       "</table>\n",
       "</div>"
      ],
      "text/plain": [
       "   numcomapp  count        pr\n",
       "0        1.0  17293  0.475749\n",
       "1        2.0   4288  0.117967\n",
       "2        3.0   3599  0.099012\n",
       "3        4.0   1633  0.044926\n",
       "4        5.0   1826  0.050235"
      ]
     },
     "execution_count": 24,
     "metadata": {},
     "output_type": "execute_result"
    }
   ],
   "source": [
    "ll.head()"
   ]
  },
  {
   "cell_type": "code",
   "execution_count": 25,
   "metadata": {
    "ExecuteTime": {
     "end_time": "2018-10-11T17:19:07.128415Z",
     "start_time": "2018-10-11T17:19:07.119532Z"
    }
   },
   "outputs": [],
   "source": [
    "# create data series\n",
    "x = ll['numcomapp']\n",
    "y = ll['pr']"
   ]
  },
  {
   "cell_type": "code",
   "execution_count": 28,
   "metadata": {
    "ExecuteTime": {
     "end_time": "2018-10-11T17:20:45.769794Z",
     "start_time": "2018-10-11T17:20:45.242068Z"
    }
   },
   "outputs": [
    {
     "data": {
      "image/png": "[encoded data removed]",
      "text/plain": [
       "<Figure size 432x432 with 1 Axes>"
      ]
     },
     "metadata": {},
     "output_type": "display_data"
    }
   ],
   "source": [
    "# cretae the chart\n",
    "fig = plt.figure(figsize=(6, 6))\n",
    "\n",
    "# populate the figure\n",
    "ax = fig.add_subplot(1, 1, 1)\n",
    "\n",
    "# plot the data\n",
    "ax.scatter(x, y, marker='o', alpha=0.5)\n",
    "\n",
    "# axes\n",
    "ax.set_xscale('log')\n",
    "ax.set_yscale('log')\n",
    "ax.set_ylim(0.00001, 1)\n",
    "ax.set_xlabel('Number of comments (x)')\n",
    "ax.set_ylabel('Pr(x)')\n",
    "\n",
    "# show the plot\n",
    "plt.show()"
   ]
  },
  {
   "cell_type": "markdown",
   "metadata": {},
   "source": [
    "# Bivariate distributions"
   ]
  },
  {
   "cell_type": "markdown",
   "metadata": {},
   "source": [
    "-- In-class exercise here --"
   ]
  },
  {
   "cell_type": "markdown",
   "metadata": {},
   "source": [
    "# 3D distributions"
   ]
  },
  {
   "cell_type": "markdown",
   "metadata": {},
   "source": [
    "-- In-class exercise here --"
   ]
  }
 ],
 "metadata": {
  "kernelspec": {
   "display_name": "Python 3",
   "language": "python",
   "name": "python3"
  },
  "language_info": {
   "codemirror_mode": {
    "name": "ipython",
    "version": 3
   },
   "file_extension": ".py",
   "mimetype": "text/x-python",
   "name": "python",
   "nbconvert_exporter": "python",
   "pygments_lexer": "ipython3",
   "version": "3.7.3"
  },
  "latex_envs": {
   "LaTeX_envs_menu_present": true,
   "autoclose": false,
   "autocomplete": true,
   "bibliofile": "biblio.bib",
   "cite_by": "apalike",
   "current_citInitial": 1,
   "eqLabelWithNumbers": true,
   "eqNumInitial": 1,
   "hotkeys": {
    "equation": "Ctrl-E",
    "itemize": "Ctrl-I"
   },
   "labels_anchors": false,
   "latex_user_defs": false,
   "report_style_numbering": false,
   "user_envs_cfg": false
  },
  "toc": {
   "base_numbering": 1,
   "nav_menu": {},
   "number_sections": true,
   "sideBar": true,
   "skip_h1_title": false,
   "title_cell": "Table of Contents",
   "title_sidebar": "Contents",
   "toc_cell": false,
   "toc_position": {
    "height": "calc(100% - 180px)",
    "left": "10px",
    "top": "150px",
    "width": "243px"
   },
   "toc_section_display": true,
   "toc_window_display": false
  },
  "varInspector": {
   "cols": {
    "lenName": 16,
    "lenType": 16,
    "lenVar": 40
   },
   "kernels_config": {
    "python": {
     "delete_cmd_postfix": "",
     "delete_cmd_prefix": "del ",
     "library": "var_list.py",
     "varRefreshCmd": "print(var_dic_list())"
    },
    "r": {
     "delete_cmd_postfix": ") ",
     "delete_cmd_prefix": "rm(",
     "library": "var_list.r",
     "varRefreshCmd": "cat(var_dic_list()) "
    }
   },
   "types_to_exclude": [
    "module",
    "function",
    "builtin_function_or_method",
    "instance",
    "_Feature"
   ],
   "window_display": false
  }
 },
 "nbformat": 4,
 "nbformat_minor": 2
}
